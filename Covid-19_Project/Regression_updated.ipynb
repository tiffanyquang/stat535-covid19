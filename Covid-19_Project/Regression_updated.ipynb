{
 "cells": [
  {
   "cell_type": "code",
   "execution_count": 56,
   "metadata": {},
   "outputs": [],
   "source": [
    "import pandas as pd\n",
    "import numpy as np\n",
    "import matplotlib.pyplot as plt\n",
    "\n",
    "#%matplotlib inline\n",
    "\n",
    "import statsmodels.formula.api as smf\n",
    "import statsmodels.api as sm\n",
    "from statsmodels.graphics.gofplots import qqplot\n",
    "\n",
    "from pandas import ExcelWriter\n",
    "from pandas import ExcelFile\n",
    "\n",
    "from sklearn import linear_model\n",
    "import sklearn.model_selection as model_selection"
   ]
  },
  {
   "cell_type": "markdown",
   "metadata": {},
   "source": [
    "Assumptions for multiple linear regression: https://www.statisticssolutions.com/assumptions-of-multiple-linear-regression/"
   ]
  },
  {
   "cell_type": "code",
   "execution_count": 3,
   "metadata": {
    "scrolled": false
   },
   "outputs": [
    {
     "data": {
      "text/html": [
       "<div>\n",
       "<style scoped>\n",
       "    .dataframe tbody tr th:only-of-type {\n",
       "        vertical-align: middle;\n",
       "    }\n",
       "\n",
       "    .dataframe tbody tr th {\n",
       "        vertical-align: top;\n",
       "    }\n",
       "\n",
       "    .dataframe thead th {\n",
       "        text-align: right;\n",
       "    }\n",
       "</style>\n",
       "<table border=\"1\" class=\"dataframe\">\n",
       "  <thead>\n",
       "    <tr style=\"text-align: right;\">\n",
       "      <th></th>\n",
       "      <th>STATE</th>\n",
       "      <th>abbr</th>\n",
       "      <th>Density</th>\n",
       "      <th>Pop</th>\n",
       "      <th>LandArea</th>\n",
       "      <th>gdpRank</th>\n",
       "      <th>stateGDP</th>\n",
       "      <th>stateGDPperc</th>\n",
       "      <th>gdpGrowth2018</th>\n",
       "      <th>Airports</th>\n",
       "      <th>...</th>\n",
       "      <th>totalTestResults</th>\n",
       "      <th>fips</th>\n",
       "      <th>positive_04102020</th>\n",
       "      <th>negative_04102020</th>\n",
       "      <th>deaths_04102020</th>\n",
       "      <th>total_test_results_04102020</th>\n",
       "      <th>num_hospitals_2019</th>\n",
       "      <th>num_active_doct_2019</th>\n",
       "      <th>avg_income_2019</th>\n",
       "      <th>proportion_uninsured_2018</th>\n",
       "    </tr>\n",
       "  </thead>\n",
       "  <tbody>\n",
       "    <tr>\n",
       "      <td>0</td>\n",
       "      <td>Alaska</td>\n",
       "      <td>AK</td>\n",
       "      <td>1.2863</td>\n",
       "      <td>734002</td>\n",
       "      <td>570641</td>\n",
       "      <td>46.0</td>\n",
       "      <td>54851.0</td>\n",
       "      <td>0.003</td>\n",
       "      <td>-0.3</td>\n",
       "      <td>767</td>\n",
       "      <td>...</td>\n",
       "      <td>4603</td>\n",
       "      <td>2</td>\n",
       "      <td>246</td>\n",
       "      <td>7186</td>\n",
       "      <td>7</td>\n",
       "      <td>7432</td>\n",
       "      <td>10.0</td>\n",
       "      <td>1900.0</td>\n",
       "      <td>91268.57</td>\n",
       "      <td>0.12</td>\n",
       "    </tr>\n",
       "    <tr>\n",
       "      <td>1</td>\n",
       "      <td>Alabama</td>\n",
       "      <td>AL</td>\n",
       "      <td>96.9221</td>\n",
       "      <td>4908621</td>\n",
       "      <td>50645</td>\n",
       "      <td>27.0</td>\n",
       "      <td>224654.0</td>\n",
       "      <td>0.011</td>\n",
       "      <td>2.0</td>\n",
       "      <td>316</td>\n",
       "      <td>...</td>\n",
       "      <td>7774</td>\n",
       "      <td>1</td>\n",
       "      <td>2968</td>\n",
       "      <td>18058</td>\n",
       "      <td>80</td>\n",
       "      <td>21026</td>\n",
       "      <td>90.0</td>\n",
       "      <td>12205.0</td>\n",
       "      <td>70090.35</td>\n",
       "      <td>0.10</td>\n",
       "    </tr>\n",
       "    <tr>\n",
       "      <td>2</td>\n",
       "      <td>Arkansas</td>\n",
       "      <td>AR</td>\n",
       "      <td>58.4030</td>\n",
       "      <td>3038999</td>\n",
       "      <td>52035</td>\n",
       "      <td>34.0</td>\n",
       "      <td>129812.0</td>\n",
       "      <td>0.006</td>\n",
       "      <td>0.9</td>\n",
       "      <td>304</td>\n",
       "      <td>...</td>\n",
       "      <td>7938</td>\n",
       "      <td>5</td>\n",
       "      <td>1171</td>\n",
       "      <td>15949</td>\n",
       "      <td>23</td>\n",
       "      <td>17120</td>\n",
       "      <td>52.0</td>\n",
       "      <td>7150.0</td>\n",
       "      <td>68079.14</td>\n",
       "      <td>0.08</td>\n",
       "    </tr>\n",
       "    <tr>\n",
       "      <td>3</td>\n",
       "      <td>Arizona</td>\n",
       "      <td>AZ</td>\n",
       "      <td>64.9550</td>\n",
       "      <td>7378494</td>\n",
       "      <td>113594</td>\n",
       "      <td>20.0</td>\n",
       "      <td>355311.0</td>\n",
       "      <td>0.017</td>\n",
       "      <td>4.0</td>\n",
       "      <td>298</td>\n",
       "      <td>...</td>\n",
       "      <td>21058</td>\n",
       "      <td>4</td>\n",
       "      <td>3112</td>\n",
       "      <td>34622</td>\n",
       "      <td>97</td>\n",
       "      <td>37734</td>\n",
       "      <td>72.0</td>\n",
       "      <td>17806.0</td>\n",
       "      <td>87823.18</td>\n",
       "      <td>0.11</td>\n",
       "    </tr>\n",
       "    <tr>\n",
       "      <td>4</td>\n",
       "      <td>California</td>\n",
       "      <td>CA</td>\n",
       "      <td>256.3727</td>\n",
       "      <td>39937489</td>\n",
       "      <td>155779</td>\n",
       "      <td>1.0</td>\n",
       "      <td>3018337.0</td>\n",
       "      <td>0.145</td>\n",
       "      <td>3.5</td>\n",
       "      <td>882</td>\n",
       "      <td>...</td>\n",
       "      <td>29927</td>\n",
       "      <td>6</td>\n",
       "      <td>19472</td>\n",
       "      <td>145391</td>\n",
       "      <td>541</td>\n",
       "      <td>164863</td>\n",
       "      <td>342.0</td>\n",
       "      <td>112906.0</td>\n",
       "      <td>102375.47</td>\n",
       "      <td>0.07</td>\n",
       "    </tr>\n",
       "    <tr>\n",
       "      <td>5</td>\n",
       "      <td>Colorado</td>\n",
       "      <td>CO</td>\n",
       "      <td>56.4011</td>\n",
       "      <td>5845526</td>\n",
       "      <td>103642</td>\n",
       "      <td>16.0</td>\n",
       "      <td>376994.0</td>\n",
       "      <td>0.018</td>\n",
       "      <td>3.5</td>\n",
       "      <td>447</td>\n",
       "      <td>...</td>\n",
       "      <td>16849</td>\n",
       "      <td>8</td>\n",
       "      <td>6510</td>\n",
       "      <td>26143</td>\n",
       "      <td>250</td>\n",
       "      <td>32653</td>\n",
       "      <td>55.0</td>\n",
       "      <td>14509.0</td>\n",
       "      <td>98129.07</td>\n",
       "      <td>0.08</td>\n",
       "    </tr>\n",
       "    <tr>\n",
       "      <td>6</td>\n",
       "      <td>Connecticut</td>\n",
       "      <td>CT</td>\n",
       "      <td>735.8689</td>\n",
       "      <td>3563077</td>\n",
       "      <td>4842</td>\n",
       "      <td>23.0</td>\n",
       "      <td>279653.0</td>\n",
       "      <td>0.013</td>\n",
       "      <td>1.0</td>\n",
       "      <td>123</td>\n",
       "      <td>...</td>\n",
       "      <td>16600</td>\n",
       "      <td>9</td>\n",
       "      <td>10538</td>\n",
       "      <td>25750</td>\n",
       "      <td>448</td>\n",
       "      <td>36288</td>\n",
       "      <td>34.0</td>\n",
       "      <td>15605.0</td>\n",
       "      <td>103865.55</td>\n",
       "      <td>0.05</td>\n",
       "    </tr>\n",
       "    <tr>\n",
       "      <td>8</td>\n",
       "      <td>Delaware</td>\n",
       "      <td>DE</td>\n",
       "      <td>504.3073</td>\n",
       "      <td>982895</td>\n",
       "      <td>1949</td>\n",
       "      <td>42.0</td>\n",
       "      <td>76537.0</td>\n",
       "      <td>0.004</td>\n",
       "      <td>0.3</td>\n",
       "      <td>42</td>\n",
       "      <td>...</td>\n",
       "      <td>4383</td>\n",
       "      <td>10</td>\n",
       "      <td>1326</td>\n",
       "      <td>10415</td>\n",
       "      <td>23</td>\n",
       "      <td>11741</td>\n",
       "      <td>8.0</td>\n",
       "      <td>3148.0</td>\n",
       "      <td>93957.11</td>\n",
       "      <td>0.06</td>\n",
       "    </tr>\n",
       "    <tr>\n",
       "      <td>9</td>\n",
       "      <td>Florida</td>\n",
       "      <td>FL</td>\n",
       "      <td>410.1256</td>\n",
       "      <td>21992985</td>\n",
       "      <td>53625</td>\n",
       "      <td>4.0</td>\n",
       "      <td>1059144.0</td>\n",
       "      <td>0.051</td>\n",
       "      <td>3.5</td>\n",
       "      <td>875</td>\n",
       "      <td>...</td>\n",
       "      <td>66484</td>\n",
       "      <td>12</td>\n",
       "      <td>17531</td>\n",
       "      <td>145299</td>\n",
       "      <td>390</td>\n",
       "      <td>162830</td>\n",
       "      <td>214.0</td>\n",
       "      <td>56499.0</td>\n",
       "      <td>78433.46</td>\n",
       "      <td>0.13</td>\n",
       "    </tr>\n",
       "    <tr>\n",
       "      <td>10</td>\n",
       "      <td>Georgia</td>\n",
       "      <td>GA</td>\n",
       "      <td>186.6719</td>\n",
       "      <td>10736059</td>\n",
       "      <td>57513</td>\n",
       "      <td>9.0</td>\n",
       "      <td>601503.0</td>\n",
       "      <td>0.029</td>\n",
       "      <td>2.6</td>\n",
       "      <td>454</td>\n",
       "      <td>...</td>\n",
       "      <td>20326</td>\n",
       "      <td>13</td>\n",
       "      <td>11483</td>\n",
       "      <td>34664</td>\n",
       "      <td>416</td>\n",
       "      <td>46147</td>\n",
       "      <td>111.0</td>\n",
       "      <td>25312.0</td>\n",
       "      <td>79797.68</td>\n",
       "      <td>0.14</td>\n",
       "    </tr>\n",
       "    <tr>\n",
       "      <td>11</td>\n",
       "      <td>Hawaii</td>\n",
       "      <td>HI</td>\n",
       "      <td>219.9419</td>\n",
       "      <td>1412687</td>\n",
       "      <td>6423</td>\n",
       "      <td>38.0</td>\n",
       "      <td>93419.0</td>\n",
       "      <td>0.004</td>\n",
       "      <td>1.0</td>\n",
       "      <td>46</td>\n",
       "      <td>...</td>\n",
       "      <td>8929</td>\n",
       "      <td>15</td>\n",
       "      <td>442</td>\n",
       "      <td>15707</td>\n",
       "      <td>6</td>\n",
       "      <td>16149</td>\n",
       "      <td>14.0</td>\n",
       "      <td>3660.0</td>\n",
       "      <td>108561.68</td>\n",
       "      <td>0.04</td>\n",
       "    </tr>\n",
       "    <tr>\n",
       "      <td>12</td>\n",
       "      <td>Iowa</td>\n",
       "      <td>IA</td>\n",
       "      <td>56.9284</td>\n",
       "      <td>3179849</td>\n",
       "      <td>55857</td>\n",
       "      <td>30.0</td>\n",
       "      <td>192608.0</td>\n",
       "      <td>0.009</td>\n",
       "      <td>1.4</td>\n",
       "      <td>279</td>\n",
       "      <td>...</td>\n",
       "      <td>7853</td>\n",
       "      <td>19</td>\n",
       "      <td>1388</td>\n",
       "      <td>14565</td>\n",
       "      <td>31</td>\n",
       "      <td>15953</td>\n",
       "      <td>39.0</td>\n",
       "      <td>8511.0</td>\n",
       "      <td>86231.80</td>\n",
       "      <td>0.05</td>\n",
       "    </tr>\n",
       "    <tr>\n",
       "      <td>13</td>\n",
       "      <td>Idaho</td>\n",
       "      <td>ID</td>\n",
       "      <td>22.0969</td>\n",
       "      <td>1826156</td>\n",
       "      <td>82643</td>\n",
       "      <td>41.0</td>\n",
       "      <td>78640.0</td>\n",
       "      <td>0.004</td>\n",
       "      <td>4.1</td>\n",
       "      <td>301</td>\n",
       "      <td>...</td>\n",
       "      <td>6601</td>\n",
       "      <td>16</td>\n",
       "      <td>1353</td>\n",
       "      <td>11741</td>\n",
       "      <td>24</td>\n",
       "      <td>13094</td>\n",
       "      <td>18.0</td>\n",
       "      <td>3012.0</td>\n",
       "      <td>77877.59</td>\n",
       "      <td>0.11</td>\n",
       "    </tr>\n",
       "    <tr>\n",
       "      <td>14</td>\n",
       "      <td>Illinois</td>\n",
       "      <td>IL</td>\n",
       "      <td>228.0243</td>\n",
       "      <td>12659682</td>\n",
       "      <td>55519</td>\n",
       "      <td>5.0</td>\n",
       "      <td>879947.0</td>\n",
       "      <td>0.042</td>\n",
       "      <td>2.1</td>\n",
       "      <td>707</td>\n",
       "      <td>...</td>\n",
       "      <td>40384</td>\n",
       "      <td>17</td>\n",
       "      <td>17887</td>\n",
       "      <td>69640</td>\n",
       "      <td>596</td>\n",
       "      <td>87527</td>\n",
       "      <td>142.0</td>\n",
       "      <td>43377.0</td>\n",
       "      <td>97212.04</td>\n",
       "      <td>0.07</td>\n",
       "    </tr>\n",
       "    <tr>\n",
       "      <td>15</td>\n",
       "      <td>Indiana</td>\n",
       "      <td>IN</td>\n",
       "      <td>188.2810</td>\n",
       "      <td>6745354</td>\n",
       "      <td>35826</td>\n",
       "      <td>19.0</td>\n",
       "      <td>371629.0</td>\n",
       "      <td>0.018</td>\n",
       "      <td>1.9</td>\n",
       "      <td>518</td>\n",
       "      <td>...</td>\n",
       "      <td>14375</td>\n",
       "      <td>18</td>\n",
       "      <td>6907</td>\n",
       "      <td>28133</td>\n",
       "      <td>300</td>\n",
       "      <td>35040</td>\n",
       "      <td>102.0</td>\n",
       "      <td>16816.0</td>\n",
       "      <td>78056.95</td>\n",
       "      <td>0.08</td>\n",
       "    </tr>\n",
       "    <tr>\n",
       "      <td>16</td>\n",
       "      <td>Kansas</td>\n",
       "      <td>KS</td>\n",
       "      <td>35.5968</td>\n",
       "      <td>2910357</td>\n",
       "      <td>81759</td>\n",
       "      <td>32.0</td>\n",
       "      <td>169558.0</td>\n",
       "      <td>0.008</td>\n",
       "      <td>1.9</td>\n",
       "      <td>372</td>\n",
       "      <td>...</td>\n",
       "      <td>5893</td>\n",
       "      <td>20</td>\n",
       "      <td>1166</td>\n",
       "      <td>10248</td>\n",
       "      <td>50</td>\n",
       "      <td>11414</td>\n",
       "      <td>58.0</td>\n",
       "      <td>7926.0</td>\n",
       "      <td>84168.27</td>\n",
       "      <td>0.09</td>\n",
       "    </tr>\n",
       "    <tr>\n",
       "      <td>17</td>\n",
       "      <td>Kentucky</td>\n",
       "      <td>KY</td>\n",
       "      <td>113.9566</td>\n",
       "      <td>4499692</td>\n",
       "      <td>39486</td>\n",
       "      <td>28.0</td>\n",
       "      <td>211621.0</td>\n",
       "      <td>0.010</td>\n",
       "      <td>1.4</td>\n",
       "      <td>263</td>\n",
       "      <td>...</td>\n",
       "      <td>7556</td>\n",
       "      <td>21</td>\n",
       "      <td>1693</td>\n",
       "      <td>22595</td>\n",
       "      <td>90</td>\n",
       "      <td>24288</td>\n",
       "      <td>75.0</td>\n",
       "      <td>11937.0</td>\n",
       "      <td>80547.15</td>\n",
       "      <td>0.06</td>\n",
       "    </tr>\n",
       "    <tr>\n",
       "      <td>18</td>\n",
       "      <td>Louisiana</td>\n",
       "      <td>LA</td>\n",
       "      <td>107.5175</td>\n",
       "      <td>4645184</td>\n",
       "      <td>43204</td>\n",
       "      <td>24.0</td>\n",
       "      <td>255492.0</td>\n",
       "      <td>0.012</td>\n",
       "      <td>1.1</td>\n",
       "      <td>498</td>\n",
       "      <td>...</td>\n",
       "      <td>45776</td>\n",
       "      <td>22</td>\n",
       "      <td>19253</td>\n",
       "      <td>73027</td>\n",
       "      <td>755</td>\n",
       "      <td>92280</td>\n",
       "      <td>108.0</td>\n",
       "      <td>13821.0</td>\n",
       "      <td>71388.37</td>\n",
       "      <td>0.08</td>\n",
       "    </tr>\n",
       "    <tr>\n",
       "      <td>19</td>\n",
       "      <td>Massachusetts</td>\n",
       "      <td>MA</td>\n",
       "      <td>894.4355</td>\n",
       "      <td>6976597</td>\n",
       "      <td>7800</td>\n",
       "      <td>11.0</td>\n",
       "      <td>575635.0</td>\n",
       "      <td>0.028</td>\n",
       "      <td>2.7</td>\n",
       "      <td>225</td>\n",
       "      <td>...</td>\n",
       "      <td>51738</td>\n",
       "      <td>25</td>\n",
       "      <td>20974</td>\n",
       "      <td>81398</td>\n",
       "      <td>599</td>\n",
       "      <td>102372</td>\n",
       "      <td>73.0</td>\n",
       "      <td>36506.0</td>\n",
       "      <td>117996.28</td>\n",
       "      <td>0.03</td>\n",
       "    </tr>\n",
       "    <tr>\n",
       "      <td>20</td>\n",
       "      <td>Maryland</td>\n",
       "      <td>MD</td>\n",
       "      <td>626.6731</td>\n",
       "      <td>6083116</td>\n",
       "      <td>9707</td>\n",
       "      <td>15.0</td>\n",
       "      <td>417776.0</td>\n",
       "      <td>0.020</td>\n",
       "      <td>1.6</td>\n",
       "      <td>223</td>\n",
       "      <td>...</td>\n",
       "      <td>19218</td>\n",
       "      <td>24</td>\n",
       "      <td>6968</td>\n",
       "      <td>37480</td>\n",
       "      <td>171</td>\n",
       "      <td>44448</td>\n",
       "      <td>53.0</td>\n",
       "      <td>24676.0</td>\n",
       "      <td>108787.55</td>\n",
       "      <td>0.06</td>\n",
       "    </tr>\n",
       "    <tr>\n",
       "      <td>21</td>\n",
       "      <td>Maine</td>\n",
       "      <td>ME</td>\n",
       "      <td>43.6336</td>\n",
       "      <td>1345790</td>\n",
       "      <td>30843</td>\n",
       "      <td>43.0</td>\n",
       "      <td>65349.0</td>\n",
       "      <td>0.003</td>\n",
       "      <td>1.9</td>\n",
       "      <td>217</td>\n",
       "      <td>...</td>\n",
       "      <td>6432</td>\n",
       "      <td>23</td>\n",
       "      <td>586</td>\n",
       "      <td>6088</td>\n",
       "      <td>17</td>\n",
       "      <td>6674</td>\n",
       "      <td>19.0</td>\n",
       "      <td>4721.0</td>\n",
       "      <td>74331.65</td>\n",
       "      <td>0.08</td>\n",
       "    </tr>\n",
       "    <tr>\n",
       "      <td>22</td>\n",
       "      <td>Michigan</td>\n",
       "      <td>MI</td>\n",
       "      <td>177.6655</td>\n",
       "      <td>10045029</td>\n",
       "      <td>56539</td>\n",
       "      <td>14.0</td>\n",
       "      <td>537087.0</td>\n",
       "      <td>0.026</td>\n",
       "      <td>2.7</td>\n",
       "      <td>481</td>\n",
       "      <td>...</td>\n",
       "      <td>21227</td>\n",
       "      <td>26</td>\n",
       "      <td>22783</td>\n",
       "      <td>49261</td>\n",
       "      <td>1281</td>\n",
       "      <td>72044</td>\n",
       "      <td>106.0</td>\n",
       "      <td>38819.0</td>\n",
       "      <td>82676.47</td>\n",
       "      <td>0.05</td>\n",
       "    </tr>\n",
       "    <tr>\n",
       "      <td>23</td>\n",
       "      <td>Minnesota</td>\n",
       "      <td>MN</td>\n",
       "      <td>71.5922</td>\n",
       "      <td>5700671</td>\n",
       "      <td>79627</td>\n",
       "      <td>17.0</td>\n",
       "      <td>374920.0</td>\n",
       "      <td>0.018</td>\n",
       "      <td>2.2</td>\n",
       "      <td>475</td>\n",
       "      <td>...</td>\n",
       "      <td>21191</td>\n",
       "      <td>27</td>\n",
       "      <td>1336</td>\n",
       "      <td>32558</td>\n",
       "      <td>57</td>\n",
       "      <td>33894</td>\n",
       "      <td>55.0</td>\n",
       "      <td>18171.0</td>\n",
       "      <td>96785.18</td>\n",
       "      <td>0.04</td>\n",
       "    </tr>\n",
       "    <tr>\n",
       "      <td>24</td>\n",
       "      <td>Missouri</td>\n",
       "      <td>MO</td>\n",
       "      <td>89.7453</td>\n",
       "      <td>6169270</td>\n",
       "      <td>68742</td>\n",
       "      <td>22.0</td>\n",
       "      <td>323287.0</td>\n",
       "      <td>0.015</td>\n",
       "      <td>2.3</td>\n",
       "      <td>510</td>\n",
       "      <td>...</td>\n",
       "      <td>17427</td>\n",
       "      <td>29</td>\n",
       "      <td>3799</td>\n",
       "      <td>36941</td>\n",
       "      <td>96</td>\n",
       "      <td>40740</td>\n",
       "      <td>86.0</td>\n",
       "      <td>20275.0</td>\n",
       "      <td>86397.22</td>\n",
       "      <td>0.09</td>\n",
       "    </tr>\n",
       "    <tr>\n",
       "      <td>25</td>\n",
       "      <td>Mississippi</td>\n",
       "      <td>MS</td>\n",
       "      <td>63.7056</td>\n",
       "      <td>2989260</td>\n",
       "      <td>46923</td>\n",
       "      <td>36.0</td>\n",
       "      <td>115749.0</td>\n",
       "      <td>0.006</td>\n",
       "      <td>1.0</td>\n",
       "      <td>235</td>\n",
       "      <td>...</td>\n",
       "      <td>4785</td>\n",
       "      <td>28</td>\n",
       "      <td>2469</td>\n",
       "      <td>18632</td>\n",
       "      <td>82</td>\n",
       "      <td>21101</td>\n",
       "      <td>70.0</td>\n",
       "      <td>6597.0</td>\n",
       "      <td>60922.93</td>\n",
       "      <td>0.12</td>\n",
       "    </tr>\n",
       "    <tr>\n",
       "      <td>26</td>\n",
       "      <td>Montana</td>\n",
       "      <td>MT</td>\n",
       "      <td>7.4668</td>\n",
       "      <td>1086759</td>\n",
       "      <td>145546</td>\n",
       "      <td>48.0</td>\n",
       "      <td>49635.0</td>\n",
       "      <td>0.002</td>\n",
       "      <td>0.9</td>\n",
       "      <td>301</td>\n",
       "      <td>...</td>\n",
       "      <td>4918</td>\n",
       "      <td>30</td>\n",
       "      <td>365</td>\n",
       "      <td>7932</td>\n",
       "      <td>6</td>\n",
       "      <td>8297</td>\n",
       "      <td>17.0</td>\n",
       "      <td>2326.0</td>\n",
       "      <td>74351.71</td>\n",
       "      <td>0.08</td>\n",
       "    </tr>\n",
       "    <tr>\n",
       "      <td>27</td>\n",
       "      <td>North Carolina</td>\n",
       "      <td>NC</td>\n",
       "      <td>218.2702</td>\n",
       "      <td>10611862</td>\n",
       "      <td>48618</td>\n",
       "      <td>12.0</td>\n",
       "      <td>575605.0</td>\n",
       "      <td>0.028</td>\n",
       "      <td>2.9</td>\n",
       "      <td>486</td>\n",
       "      <td>...</td>\n",
       "      <td>26243</td>\n",
       "      <td>37</td>\n",
       "      <td>3908</td>\n",
       "      <td>53737</td>\n",
       "      <td>74</td>\n",
       "      <td>57645</td>\n",
       "      <td>108.0</td>\n",
       "      <td>28379.0</td>\n",
       "      <td>75741.17</td>\n",
       "      <td>0.11</td>\n",
       "    </tr>\n",
       "    <tr>\n",
       "      <td>28</td>\n",
       "      <td>North Dakota</td>\n",
       "      <td>ND</td>\n",
       "      <td>11.0393</td>\n",
       "      <td>761723</td>\n",
       "      <td>69001</td>\n",
       "      <td>45.0</td>\n",
       "      <td>55657.0</td>\n",
       "      <td>0.003</td>\n",
       "      <td>2.5</td>\n",
       "      <td>282</td>\n",
       "      <td>...</td>\n",
       "      <td>4493</td>\n",
       "      <td>38</td>\n",
       "      <td>278</td>\n",
       "      <td>9330</td>\n",
       "      <td>6</td>\n",
       "      <td>9608</td>\n",
       "      <td>11.0</td>\n",
       "      <td>2015.0</td>\n",
       "      <td>86102.51</td>\n",
       "      <td>0.08</td>\n",
       "    </tr>\n",
       "    <tr>\n",
       "      <td>29</td>\n",
       "      <td>Nebraska</td>\n",
       "      <td>NE</td>\n",
       "      <td>25.4161</td>\n",
       "      <td>1952570</td>\n",
       "      <td>76824</td>\n",
       "      <td>35.0</td>\n",
       "      <td>124742.0</td>\n",
       "      <td>0.006</td>\n",
       "      <td>1.5</td>\n",
       "      <td>246</td>\n",
       "      <td>...</td>\n",
       "      <td>3685</td>\n",
       "      <td>31</td>\n",
       "      <td>635</td>\n",
       "      <td>8719</td>\n",
       "      <td>15</td>\n",
       "      <td>9354</td>\n",
       "      <td>26.0</td>\n",
       "      <td>5627.0</td>\n",
       "      <td>89613.73</td>\n",
       "      <td>0.08</td>\n",
       "    </tr>\n",
       "    <tr>\n",
       "      <td>30</td>\n",
       "      <td>New Hampshire</td>\n",
       "      <td>NH</td>\n",
       "      <td>153.1605</td>\n",
       "      <td>1371246</td>\n",
       "      <td>8953</td>\n",
       "      <td>39.0</td>\n",
       "      <td>86046.0</td>\n",
       "      <td>0.004</td>\n",
       "      <td>2.2</td>\n",
       "      <td>186</td>\n",
       "      <td>...</td>\n",
       "      <td>6400</td>\n",
       "      <td>33</td>\n",
       "      <td>819</td>\n",
       "      <td>9139</td>\n",
       "      <td>21</td>\n",
       "      <td>9958</td>\n",
       "      <td>14.0</td>\n",
       "      <td>4240.0</td>\n",
       "      <td>101016.39</td>\n",
       "      <td>0.05</td>\n",
       "    </tr>\n",
       "    <tr>\n",
       "      <td>31</td>\n",
       "      <td>New Jersey</td>\n",
       "      <td>NJ</td>\n",
       "      <td>1215.1991</td>\n",
       "      <td>8936574</td>\n",
       "      <td>7354</td>\n",
       "      <td>8.0</td>\n",
       "      <td>634721.0</td>\n",
       "      <td>0.030</td>\n",
       "      <td>2.0</td>\n",
       "      <td>320</td>\n",
       "      <td>...</td>\n",
       "      <td>52642</td>\n",
       "      <td>34</td>\n",
       "      <td>54588</td>\n",
       "      <td>58935</td>\n",
       "      <td>1932</td>\n",
       "      <td>113523</td>\n",
       "      <td>75.0</td>\n",
       "      <td>30502.0</td>\n",
       "      <td>114160.42</td>\n",
       "      <td>0.07</td>\n",
       "    </tr>\n",
       "    <tr>\n",
       "      <td>32</td>\n",
       "      <td>New Mexico</td>\n",
       "      <td>NM</td>\n",
       "      <td>17.2850</td>\n",
       "      <td>2096640</td>\n",
       "      <td>121298</td>\n",
       "      <td>37.0</td>\n",
       "      <td>101452.0</td>\n",
       "      <td>0.005</td>\n",
       "      <td>1.8</td>\n",
       "      <td>171</td>\n",
       "      <td>...</td>\n",
       "      <td>13240</td>\n",
       "      <td>35</td>\n",
       "      <td>1091</td>\n",
       "      <td>26007</td>\n",
       "      <td>19</td>\n",
       "      <td>27098</td>\n",
       "      <td>37.0</td>\n",
       "      <td>5830.0</td>\n",
       "      <td>75956.72</td>\n",
       "      <td>0.09</td>\n",
       "    </tr>\n",
       "    <tr>\n",
       "      <td>33</td>\n",
       "      <td>Nevada</td>\n",
       "      <td>NV</td>\n",
       "      <td>28.5993</td>\n",
       "      <td>3139658</td>\n",
       "      <td>109781</td>\n",
       "      <td>33.0</td>\n",
       "      <td>168752.0</td>\n",
       "      <td>0.008</td>\n",
       "      <td>3.2</td>\n",
       "      <td>139</td>\n",
       "      <td>...</td>\n",
       "      <td>12798</td>\n",
       "      <td>32</td>\n",
       "      <td>2584</td>\n",
       "      <td>20165</td>\n",
       "      <td>86</td>\n",
       "      <td>22749</td>\n",
       "      <td>30.0</td>\n",
       "      <td>6151.0</td>\n",
       "      <td>83997.52</td>\n",
       "      <td>0.11</td>\n",
       "    </tr>\n",
       "    <tr>\n",
       "      <td>35</td>\n",
       "      <td>Ohio</td>\n",
       "      <td>OH</td>\n",
       "      <td>287.5038</td>\n",
       "      <td>11747694</td>\n",
       "      <td>40861</td>\n",
       "      <td>7.0</td>\n",
       "      <td>689139.0</td>\n",
       "      <td>0.033</td>\n",
       "      <td>1.8</td>\n",
       "      <td>660</td>\n",
       "      <td>...</td>\n",
       "      <td>29539</td>\n",
       "      <td>39</td>\n",
       "      <td>5836</td>\n",
       "      <td>52695</td>\n",
       "      <td>231</td>\n",
       "      <td>58531</td>\n",
       "      <td>148.0</td>\n",
       "      <td>42373.0</td>\n",
       "      <td>82985.94</td>\n",
       "      <td>0.06</td>\n",
       "    </tr>\n",
       "    <tr>\n",
       "      <td>36</td>\n",
       "      <td>Oklahoma</td>\n",
       "      <td>OK</td>\n",
       "      <td>57.6547</td>\n",
       "      <td>3954821</td>\n",
       "      <td>68595</td>\n",
       "      <td>29.0</td>\n",
       "      <td>203250.0</td>\n",
       "      <td>0.010</td>\n",
       "      <td>1.8</td>\n",
       "      <td>457</td>\n",
       "      <td>...</td>\n",
       "      <td>1967</td>\n",
       "      <td>40</td>\n",
       "      <td>1794</td>\n",
       "      <td>20370</td>\n",
       "      <td>88</td>\n",
       "      <td>22164</td>\n",
       "      <td>90.0</td>\n",
       "      <td>9472.0</td>\n",
       "      <td>74872.16</td>\n",
       "      <td>0.14</td>\n",
       "    </tr>\n",
       "    <tr>\n",
       "      <td>37</td>\n",
       "      <td>Oregon</td>\n",
       "      <td>OR</td>\n",
       "      <td>44.8086</td>\n",
       "      <td>4301089</td>\n",
       "      <td>95988</td>\n",
       "      <td>25.0</td>\n",
       "      <td>243085.0</td>\n",
       "      <td>0.012</td>\n",
       "      <td>3.4</td>\n",
       "      <td>442</td>\n",
       "      <td>...</td>\n",
       "      <td>13826</td>\n",
       "      <td>41</td>\n",
       "      <td>1321</td>\n",
       "      <td>24306</td>\n",
       "      <td>44</td>\n",
       "      <td>25627</td>\n",
       "      <td>37.0</td>\n",
       "      <td>12149.0</td>\n",
       "      <td>91458.36</td>\n",
       "      <td>0.07</td>\n",
       "    </tr>\n",
       "    <tr>\n",
       "      <td>38</td>\n",
       "      <td>Pennsylvania</td>\n",
       "      <td>PA</td>\n",
       "      <td>286.5449</td>\n",
       "      <td>12820878</td>\n",
       "      <td>44743</td>\n",
       "      <td>6.0</td>\n",
       "      <td>803307.0</td>\n",
       "      <td>0.038</td>\n",
       "      <td>2.1</td>\n",
       "      <td>758</td>\n",
       "      <td>...</td>\n",
       "      <td>48232</td>\n",
       "      <td>42</td>\n",
       "      <td>19979</td>\n",
       "      <td>93040</td>\n",
       "      <td>416</td>\n",
       "      <td>113019</td>\n",
       "      <td>177.0</td>\n",
       "      <td>51069.0</td>\n",
       "      <td>88716.82</td>\n",
       "      <td>0.06</td>\n",
       "    </tr>\n",
       "    <tr>\n",
       "      <td>39</td>\n",
       "      <td>Rhode Island</td>\n",
       "      <td>RI</td>\n",
       "      <td>1021.4323</td>\n",
       "      <td>1056161</td>\n",
       "      <td>1034</td>\n",
       "      <td>44.0</td>\n",
       "      <td>61341.0</td>\n",
       "      <td>0.003</td>\n",
       "      <td>0.6</td>\n",
       "      <td>22</td>\n",
       "      <td>...</td>\n",
       "      <td>4397</td>\n",
       "      <td>44</td>\n",
       "      <td>2015</td>\n",
       "      <td>12281</td>\n",
       "      <td>49</td>\n",
       "      <td>14296</td>\n",
       "      <td>11.0</td>\n",
       "      <td>4988.0</td>\n",
       "      <td>92008.88</td>\n",
       "      <td>0.04</td>\n",
       "    </tr>\n",
       "    <tr>\n",
       "      <td>40</td>\n",
       "      <td>South Carolina</td>\n",
       "      <td>SC</td>\n",
       "      <td>173.3174</td>\n",
       "      <td>5210095</td>\n",
       "      <td>30061</td>\n",
       "      <td>26.0</td>\n",
       "      <td>234367.0</td>\n",
       "      <td>0.011</td>\n",
       "      <td>1.6</td>\n",
       "      <td>196</td>\n",
       "      <td>...</td>\n",
       "      <td>6326</td>\n",
       "      <td>45</td>\n",
       "      <td>3065</td>\n",
       "      <td>25118</td>\n",
       "      <td>72</td>\n",
       "      <td>28183</td>\n",
       "      <td>65.0</td>\n",
       "      <td>12847.0</td>\n",
       "      <td>80500.78</td>\n",
       "      <td>0.10</td>\n",
       "    </tr>\n",
       "    <tr>\n",
       "      <td>41</td>\n",
       "      <td>South Dakota</td>\n",
       "      <td>SD</td>\n",
       "      <td>11.9116</td>\n",
       "      <td>903027</td>\n",
       "      <td>75811</td>\n",
       "      <td>47.0</td>\n",
       "      <td>52544.0</td>\n",
       "      <td>0.003</td>\n",
       "      <td>1.3</td>\n",
       "      <td>185</td>\n",
       "      <td>...</td>\n",
       "      <td>4032</td>\n",
       "      <td>46</td>\n",
       "      <td>536</td>\n",
       "      <td>7111</td>\n",
       "      <td>6</td>\n",
       "      <td>7647</td>\n",
       "      <td>24.0</td>\n",
       "      <td>2041.0</td>\n",
       "      <td>84257.55</td>\n",
       "      <td>0.09</td>\n",
       "    </tr>\n",
       "    <tr>\n",
       "      <td>42</td>\n",
       "      <td>Tennessee</td>\n",
       "      <td>TN</td>\n",
       "      <td>167.2748</td>\n",
       "      <td>6897576</td>\n",
       "      <td>41235</td>\n",
       "      <td>18.0</td>\n",
       "      <td>373663.0</td>\n",
       "      <td>0.018</td>\n",
       "      <td>3.0</td>\n",
       "      <td>339</td>\n",
       "      <td>...</td>\n",
       "      <td>32452</td>\n",
       "      <td>47</td>\n",
       "      <td>4862</td>\n",
       "      <td>57937</td>\n",
       "      <td>98</td>\n",
       "      <td>62799</td>\n",
       "      <td>100.0</td>\n",
       "      <td>18979.0</td>\n",
       "      <td>79019.22</td>\n",
       "      <td>0.10</td>\n",
       "    </tr>\n",
       "    <tr>\n",
       "      <td>43</td>\n",
       "      <td>Texas</td>\n",
       "      <td>TX</td>\n",
       "      <td>112.8204</td>\n",
       "      <td>29472295</td>\n",
       "      <td>261232</td>\n",
       "      <td>2.0</td>\n",
       "      <td>1818585.0</td>\n",
       "      <td>0.087</td>\n",
       "      <td>3.2</td>\n",
       "      <td>2031</td>\n",
       "      <td>...</td>\n",
       "      <td>47857</td>\n",
       "      <td>48</td>\n",
       "      <td>11671</td>\n",
       "      <td>104047</td>\n",
       "      <td>226</td>\n",
       "      <td>115718</td>\n",
       "      <td>365.0</td>\n",
       "      <td>64602.0</td>\n",
       "      <td>84470.84</td>\n",
       "      <td>0.18</td>\n",
       "    </tr>\n",
       "    <tr>\n",
       "      <td>44</td>\n",
       "      <td>Utah</td>\n",
       "      <td>UT</td>\n",
       "      <td>39.9430</td>\n",
       "      <td>3282115</td>\n",
       "      <td>82170</td>\n",
       "      <td>31.0</td>\n",
       "      <td>180862.0</td>\n",
       "      <td>0.009</td>\n",
       "      <td>4.3</td>\n",
       "      <td>156</td>\n",
       "      <td>...</td>\n",
       "      <td>21167</td>\n",
       "      <td>49</td>\n",
       "      <td>2102</td>\n",
       "      <td>38660</td>\n",
       "      <td>17</td>\n",
       "      <td>40762</td>\n",
       "      <td>35.0</td>\n",
       "      <td>6761.0</td>\n",
       "      <td>100221.80</td>\n",
       "      <td>0.09</td>\n",
       "    </tr>\n",
       "    <tr>\n",
       "      <td>45</td>\n",
       "      <td>Virginia</td>\n",
       "      <td>VA</td>\n",
       "      <td>218.4403</td>\n",
       "      <td>8626207</td>\n",
       "      <td>39490</td>\n",
       "      <td>13.0</td>\n",
       "      <td>544348.0</td>\n",
       "      <td>0.026</td>\n",
       "      <td>2.8</td>\n",
       "      <td>431</td>\n",
       "      <td>...</td>\n",
       "      <td>15344</td>\n",
       "      <td>51</td>\n",
       "      <td>4509</td>\n",
       "      <td>30950</td>\n",
       "      <td>121</td>\n",
       "      <td>35459</td>\n",
       "      <td>90.0</td>\n",
       "      <td>23307.0</td>\n",
       "      <td>105791.79</td>\n",
       "      <td>0.09</td>\n",
       "    </tr>\n",
       "    <tr>\n",
       "      <td>46</td>\n",
       "      <td>Vermont</td>\n",
       "      <td>VT</td>\n",
       "      <td>68.1416</td>\n",
       "      <td>628061</td>\n",
       "      <td>9217</td>\n",
       "      <td>50.0</td>\n",
       "      <td>34154.0</td>\n",
       "      <td>0.002</td>\n",
       "      <td>1.2</td>\n",
       "      <td>89</td>\n",
       "      <td>...</td>\n",
       "      <td>4495</td>\n",
       "      <td>50</td>\n",
       "      <td>679</td>\n",
       "      <td>7553</td>\n",
       "      <td>24</td>\n",
       "      <td>8232</td>\n",
       "      <td>7.0</td>\n",
       "      <td>2338.0</td>\n",
       "      <td>84281.16</td>\n",
       "      <td>0.04</td>\n",
       "    </tr>\n",
       "    <tr>\n",
       "      <td>47</td>\n",
       "      <td>Washington</td>\n",
       "      <td>WA</td>\n",
       "      <td>117.3272</td>\n",
       "      <td>7797095</td>\n",
       "      <td>66456</td>\n",
       "      <td>10.0</td>\n",
       "      <td>576624.0</td>\n",
       "      <td>0.028</td>\n",
       "      <td>5.7</td>\n",
       "      <td>538</td>\n",
       "      <td>...</td>\n",
       "      <td>66200</td>\n",
       "      <td>53</td>\n",
       "      <td>10224</td>\n",
       "      <td>83391</td>\n",
       "      <td>446</td>\n",
       "      <td>93615</td>\n",
       "      <td>64.0</td>\n",
       "      <td>22036.0</td>\n",
       "      <td>106407.57</td>\n",
       "      <td>0.07</td>\n",
       "    </tr>\n",
       "    <tr>\n",
       "      <td>48</td>\n",
       "      <td>Wisconsin</td>\n",
       "      <td>WI</td>\n",
       "      <td>108.0497</td>\n",
       "      <td>5851754</td>\n",
       "      <td>54158</td>\n",
       "      <td>21.0</td>\n",
       "      <td>342470.0</td>\n",
       "      <td>0.016</td>\n",
       "      <td>2.5</td>\n",
       "      <td>540</td>\n",
       "      <td>...</td>\n",
       "      <td>20369</td>\n",
       "      <td>55</td>\n",
       "      <td>3068</td>\n",
       "      <td>33225</td>\n",
       "      <td>128</td>\n",
       "      <td>36293</td>\n",
       "      <td>77.0</td>\n",
       "      <td>17695.0</td>\n",
       "      <td>80671.17</td>\n",
       "      <td>0.06</td>\n",
       "    </tr>\n",
       "    <tr>\n",
       "      <td>49</td>\n",
       "      <td>West Virginia</td>\n",
       "      <td>WV</td>\n",
       "      <td>73.9691</td>\n",
       "      <td>1778070</td>\n",
       "      <td>24038</td>\n",
       "      <td>40.0</td>\n",
       "      <td>79168.0</td>\n",
       "      <td>0.004</td>\n",
       "      <td>2.4</td>\n",
       "      <td>125</td>\n",
       "      <td>...</td>\n",
       "      <td>4575</td>\n",
       "      <td>54</td>\n",
       "      <td>554</td>\n",
       "      <td>14001</td>\n",
       "      <td>5</td>\n",
       "      <td>14555</td>\n",
       "      <td>37.0</td>\n",
       "      <td>5685.0</td>\n",
       "      <td>66563.23</td>\n",
       "      <td>0.06</td>\n",
       "    </tr>\n",
       "    <tr>\n",
       "      <td>50</td>\n",
       "      <td>Wyoming</td>\n",
       "      <td>WY</td>\n",
       "      <td>5.8400</td>\n",
       "      <td>567025</td>\n",
       "      <td>97093</td>\n",
       "      <td>49.0</td>\n",
       "      <td>39899.0</td>\n",
       "      <td>0.002</td>\n",
       "      <td>0.3</td>\n",
       "      <td>121</td>\n",
       "      <td>...</td>\n",
       "      <td>2348</td>\n",
       "      <td>56</td>\n",
       "      <td>320</td>\n",
       "      <td>4736</td>\n",
       "      <td>0</td>\n",
       "      <td>5056</td>\n",
       "      <td>14.0</td>\n",
       "      <td>1172.0</td>\n",
       "      <td>80293.39</td>\n",
       "      <td>0.11</td>\n",
       "    </tr>\n",
       "  </tbody>\n",
       "</table>\n",
       "<p>49 rows × 38 columns</p>\n",
       "</div>"
      ],
      "text/plain": [
       "             STATE abbr    Density       Pop  LandArea  gdpRank   stateGDP  \\\n",
       "0           Alaska   AK     1.2863    734002    570641     46.0    54851.0   \n",
       "1          Alabama   AL    96.9221   4908621     50645     27.0   224654.0   \n",
       "2         Arkansas   AR    58.4030   3038999     52035     34.0   129812.0   \n",
       "3          Arizona   AZ    64.9550   7378494    113594     20.0   355311.0   \n",
       "4       California   CA   256.3727  39937489    155779      1.0  3018337.0   \n",
       "5         Colorado   CO    56.4011   5845526    103642     16.0   376994.0   \n",
       "6      Connecticut   CT   735.8689   3563077      4842     23.0   279653.0   \n",
       "8         Delaware   DE   504.3073    982895      1949     42.0    76537.0   \n",
       "9          Florida   FL   410.1256  21992985     53625      4.0  1059144.0   \n",
       "10         Georgia   GA   186.6719  10736059     57513      9.0   601503.0   \n",
       "11          Hawaii   HI   219.9419   1412687      6423     38.0    93419.0   \n",
       "12            Iowa   IA    56.9284   3179849     55857     30.0   192608.0   \n",
       "13           Idaho   ID    22.0969   1826156     82643     41.0    78640.0   \n",
       "14        Illinois   IL   228.0243  12659682     55519      5.0   879947.0   \n",
       "15         Indiana   IN   188.2810   6745354     35826     19.0   371629.0   \n",
       "16          Kansas   KS    35.5968   2910357     81759     32.0   169558.0   \n",
       "17        Kentucky   KY   113.9566   4499692     39486     28.0   211621.0   \n",
       "18       Louisiana   LA   107.5175   4645184     43204     24.0   255492.0   \n",
       "19   Massachusetts   MA   894.4355   6976597      7800     11.0   575635.0   \n",
       "20        Maryland   MD   626.6731   6083116      9707     15.0   417776.0   \n",
       "21           Maine   ME    43.6336   1345790     30843     43.0    65349.0   \n",
       "22        Michigan   MI   177.6655  10045029     56539     14.0   537087.0   \n",
       "23       Minnesota   MN    71.5922   5700671     79627     17.0   374920.0   \n",
       "24        Missouri   MO    89.7453   6169270     68742     22.0   323287.0   \n",
       "25     Mississippi   MS    63.7056   2989260     46923     36.0   115749.0   \n",
       "26         Montana   MT     7.4668   1086759    145546     48.0    49635.0   \n",
       "27  North Carolina   NC   218.2702  10611862     48618     12.0   575605.0   \n",
       "28    North Dakota   ND    11.0393    761723     69001     45.0    55657.0   \n",
       "29        Nebraska   NE    25.4161   1952570     76824     35.0   124742.0   \n",
       "30   New Hampshire   NH   153.1605   1371246      8953     39.0    86046.0   \n",
       "31      New Jersey   NJ  1215.1991   8936574      7354      8.0   634721.0   \n",
       "32      New Mexico   NM    17.2850   2096640    121298     37.0   101452.0   \n",
       "33          Nevada   NV    28.5993   3139658    109781     33.0   168752.0   \n",
       "35            Ohio   OH   287.5038  11747694     40861      7.0   689139.0   \n",
       "36        Oklahoma   OK    57.6547   3954821     68595     29.0   203250.0   \n",
       "37          Oregon   OR    44.8086   4301089     95988     25.0   243085.0   \n",
       "38    Pennsylvania   PA   286.5449  12820878     44743      6.0   803307.0   \n",
       "39    Rhode Island   RI  1021.4323   1056161      1034     44.0    61341.0   \n",
       "40  South Carolina   SC   173.3174   5210095     30061     26.0   234367.0   \n",
       "41    South Dakota   SD    11.9116    903027     75811     47.0    52544.0   \n",
       "42       Tennessee   TN   167.2748   6897576     41235     18.0   373663.0   \n",
       "43           Texas   TX   112.8204  29472295    261232      2.0  1818585.0   \n",
       "44            Utah   UT    39.9430   3282115     82170     31.0   180862.0   \n",
       "45        Virginia   VA   218.4403   8626207     39490     13.0   544348.0   \n",
       "46         Vermont   VT    68.1416    628061      9217     50.0    34154.0   \n",
       "47      Washington   WA   117.3272   7797095     66456     10.0   576624.0   \n",
       "48       Wisconsin   WI   108.0497   5851754     54158     21.0   342470.0   \n",
       "49   West Virginia   WV    73.9691   1778070     24038     40.0    79168.0   \n",
       "50         Wyoming   WY     5.8400    567025     97093     49.0    39899.0   \n",
       "\n",
       "    stateGDPperc  gdpGrowth2018  Airports  ...  totalTestResults  fips  \\\n",
       "0          0.003           -0.3       767  ...              4603     2   \n",
       "1          0.011            2.0       316  ...              7774     1   \n",
       "2          0.006            0.9       304  ...              7938     5   \n",
       "3          0.017            4.0       298  ...             21058     4   \n",
       "4          0.145            3.5       882  ...             29927     6   \n",
       "5          0.018            3.5       447  ...             16849     8   \n",
       "6          0.013            1.0       123  ...             16600     9   \n",
       "8          0.004            0.3        42  ...              4383    10   \n",
       "9          0.051            3.5       875  ...             66484    12   \n",
       "10         0.029            2.6       454  ...             20326    13   \n",
       "11         0.004            1.0        46  ...              8929    15   \n",
       "12         0.009            1.4       279  ...              7853    19   \n",
       "13         0.004            4.1       301  ...              6601    16   \n",
       "14         0.042            2.1       707  ...             40384    17   \n",
       "15         0.018            1.9       518  ...             14375    18   \n",
       "16         0.008            1.9       372  ...              5893    20   \n",
       "17         0.010            1.4       263  ...              7556    21   \n",
       "18         0.012            1.1       498  ...             45776    22   \n",
       "19         0.028            2.7       225  ...             51738    25   \n",
       "20         0.020            1.6       223  ...             19218    24   \n",
       "21         0.003            1.9       217  ...              6432    23   \n",
       "22         0.026            2.7       481  ...             21227    26   \n",
       "23         0.018            2.2       475  ...             21191    27   \n",
       "24         0.015            2.3       510  ...             17427    29   \n",
       "25         0.006            1.0       235  ...              4785    28   \n",
       "26         0.002            0.9       301  ...              4918    30   \n",
       "27         0.028            2.9       486  ...             26243    37   \n",
       "28         0.003            2.5       282  ...              4493    38   \n",
       "29         0.006            1.5       246  ...              3685    31   \n",
       "30         0.004            2.2       186  ...              6400    33   \n",
       "31         0.030            2.0       320  ...             52642    34   \n",
       "32         0.005            1.8       171  ...             13240    35   \n",
       "33         0.008            3.2       139  ...             12798    32   \n",
       "35         0.033            1.8       660  ...             29539    39   \n",
       "36         0.010            1.8       457  ...              1967    40   \n",
       "37         0.012            3.4       442  ...             13826    41   \n",
       "38         0.038            2.1       758  ...             48232    42   \n",
       "39         0.003            0.6        22  ...              4397    44   \n",
       "40         0.011            1.6       196  ...              6326    45   \n",
       "41         0.003            1.3       185  ...              4032    46   \n",
       "42         0.018            3.0       339  ...             32452    47   \n",
       "43         0.087            3.2      2031  ...             47857    48   \n",
       "44         0.009            4.3       156  ...             21167    49   \n",
       "45         0.026            2.8       431  ...             15344    51   \n",
       "46         0.002            1.2        89  ...              4495    50   \n",
       "47         0.028            5.7       538  ...             66200    53   \n",
       "48         0.016            2.5       540  ...             20369    55   \n",
       "49         0.004            2.4       125  ...              4575    54   \n",
       "50         0.002            0.3       121  ...              2348    56   \n",
       "\n",
       "    positive_04102020 negative_04102020 deaths_04102020  \\\n",
       "0                 246              7186               7   \n",
       "1                2968             18058              80   \n",
       "2                1171             15949              23   \n",
       "3                3112             34622              97   \n",
       "4               19472            145391             541   \n",
       "5                6510             26143             250   \n",
       "6               10538             25750             448   \n",
       "8                1326             10415              23   \n",
       "9               17531            145299             390   \n",
       "10              11483             34664             416   \n",
       "11                442             15707               6   \n",
       "12               1388             14565              31   \n",
       "13               1353             11741              24   \n",
       "14              17887             69640             596   \n",
       "15               6907             28133             300   \n",
       "16               1166             10248              50   \n",
       "17               1693             22595              90   \n",
       "18              19253             73027             755   \n",
       "19              20974             81398             599   \n",
       "20               6968             37480             171   \n",
       "21                586              6088              17   \n",
       "22              22783             49261            1281   \n",
       "23               1336             32558              57   \n",
       "24               3799             36941              96   \n",
       "25               2469             18632              82   \n",
       "26                365              7932               6   \n",
       "27               3908             53737              74   \n",
       "28                278              9330               6   \n",
       "29                635              8719              15   \n",
       "30                819              9139              21   \n",
       "31              54588             58935            1932   \n",
       "32               1091             26007              19   \n",
       "33               2584             20165              86   \n",
       "35               5836             52695             231   \n",
       "36               1794             20370              88   \n",
       "37               1321             24306              44   \n",
       "38              19979             93040             416   \n",
       "39               2015             12281              49   \n",
       "40               3065             25118              72   \n",
       "41                536              7111               6   \n",
       "42               4862             57937              98   \n",
       "43              11671            104047             226   \n",
       "44               2102             38660              17   \n",
       "45               4509             30950             121   \n",
       "46                679              7553              24   \n",
       "47              10224             83391             446   \n",
       "48               3068             33225             128   \n",
       "49                554             14001               5   \n",
       "50                320              4736               0   \n",
       "\n",
       "   total_test_results_04102020  num_hospitals_2019  num_active_doct_2019  \\\n",
       "0                         7432                10.0                1900.0   \n",
       "1                        21026                90.0               12205.0   \n",
       "2                        17120                52.0                7150.0   \n",
       "3                        37734                72.0               17806.0   \n",
       "4                       164863               342.0              112906.0   \n",
       "5                        32653                55.0               14509.0   \n",
       "6                        36288                34.0               15605.0   \n",
       "8                        11741                 8.0                3148.0   \n",
       "9                       162830               214.0               56499.0   \n",
       "10                       46147               111.0               25312.0   \n",
       "11                       16149                14.0                3660.0   \n",
       "12                       15953                39.0                8511.0   \n",
       "13                       13094                18.0                3012.0   \n",
       "14                       87527               142.0               43377.0   \n",
       "15                       35040               102.0               16816.0   \n",
       "16                       11414                58.0                7926.0   \n",
       "17                       24288                75.0               11937.0   \n",
       "18                       92280               108.0               13821.0   \n",
       "19                      102372                73.0               36506.0   \n",
       "20                       44448                53.0               24676.0   \n",
       "21                        6674                19.0                4721.0   \n",
       "22                       72044               106.0               38819.0   \n",
       "23                       33894                55.0               18171.0   \n",
       "24                       40740                86.0               20275.0   \n",
       "25                       21101                70.0                6597.0   \n",
       "26                        8297                17.0                2326.0   \n",
       "27                       57645               108.0               28379.0   \n",
       "28                        9608                11.0                2015.0   \n",
       "29                        9354                26.0                5627.0   \n",
       "30                        9958                14.0                4240.0   \n",
       "31                      113523                75.0               30502.0   \n",
       "32                       27098                37.0                5830.0   \n",
       "33                       22749                30.0                6151.0   \n",
       "35                       58531               148.0               42373.0   \n",
       "36                       22164                90.0                9472.0   \n",
       "37                       25627                37.0               12149.0   \n",
       "38                      113019               177.0               51069.0   \n",
       "39                       14296                11.0                4988.0   \n",
       "40                       28183                65.0               12847.0   \n",
       "41                        7647                24.0                2041.0   \n",
       "42                       62799               100.0               18979.0   \n",
       "43                      115718               365.0               64602.0   \n",
       "44                       40762                35.0                6761.0   \n",
       "45                       35459                90.0               23307.0   \n",
       "46                        8232                 7.0                2338.0   \n",
       "47                       93615                64.0               22036.0   \n",
       "48                       36293                77.0               17695.0   \n",
       "49                       14555                37.0                5685.0   \n",
       "50                        5056                14.0                1172.0   \n",
       "\n",
       "    avg_income_2019  proportion_uninsured_2018  \n",
       "0          91268.57                       0.12  \n",
       "1          70090.35                       0.10  \n",
       "2          68079.14                       0.08  \n",
       "3          87823.18                       0.11  \n",
       "4         102375.47                       0.07  \n",
       "5          98129.07                       0.08  \n",
       "6         103865.55                       0.05  \n",
       "8          93957.11                       0.06  \n",
       "9          78433.46                       0.13  \n",
       "10         79797.68                       0.14  \n",
       "11        108561.68                       0.04  \n",
       "12         86231.80                       0.05  \n",
       "13         77877.59                       0.11  \n",
       "14         97212.04                       0.07  \n",
       "15         78056.95                       0.08  \n",
       "16         84168.27                       0.09  \n",
       "17         80547.15                       0.06  \n",
       "18         71388.37                       0.08  \n",
       "19        117996.28                       0.03  \n",
       "20        108787.55                       0.06  \n",
       "21         74331.65                       0.08  \n",
       "22         82676.47                       0.05  \n",
       "23         96785.18                       0.04  \n",
       "24         86397.22                       0.09  \n",
       "25         60922.93                       0.12  \n",
       "26         74351.71                       0.08  \n",
       "27         75741.17                       0.11  \n",
       "28         86102.51                       0.08  \n",
       "29         89613.73                       0.08  \n",
       "30        101016.39                       0.05  \n",
       "31        114160.42                       0.07  \n",
       "32         75956.72                       0.09  \n",
       "33         83997.52                       0.11  \n",
       "35         82985.94                       0.06  \n",
       "36         74872.16                       0.14  \n",
       "37         91458.36                       0.07  \n",
       "38         88716.82                       0.06  \n",
       "39         92008.88                       0.04  \n",
       "40         80500.78                       0.10  \n",
       "41         84257.55                       0.09  \n",
       "42         79019.22                       0.10  \n",
       "43         84470.84                       0.18  \n",
       "44        100221.80                       0.09  \n",
       "45        105791.79                       0.09  \n",
       "46         84281.16                       0.04  \n",
       "47        106407.57                       0.07  \n",
       "48         80671.17                       0.06  \n",
       "49         66563.23                       0.06  \n",
       "50         80293.39                       0.11  \n",
       "\n",
       "[49 rows x 38 columns]"
      ]
     },
     "execution_count": 3,
     "metadata": {},
     "output_type": "execute_result"
    }
   ],
   "source": [
    "covid_data = pd.read_csv('master_state_data copy.csv')\n",
    "#covid_data = covid_data.dropna()\n",
    "covid_data = covid_data[covid_data.STATE != 'New York']\n",
    "covid_data = covid_data[covid_data.STATE != 'District Of Columbia']\n",
    "covid_data"
   ]
  },
  {
   "cell_type": "code",
   "execution_count": 50,
   "metadata": {
    "scrolled": true
   },
   "outputs": [],
   "source": [
    "#Checking multicollinearity assumption for multiple linear regression\n",
    "\n",
    "df = pd.DataFrame(covid_data)\n",
    "df = df.drop([\"STATE\", \"abbr\", \"Pop\", \"gdpRank\", \"stateGDPperc\", \"gdpGrowth2018\", \"pvi\",\"governorParty\",\"senateParty\",\"houseBalance\",\"positive\",\"positiveScore\",\"negativeScore\",\"negativeRegularScore\",\"commercialScore\",\"grade\",\"score\",\"negative\",\"pending\",\"hospitalized\",\"death\",\"total\",\"totalTestResults\",\"fips\", \"positive_04102020\",\"negative_04102020\",\"total_test_results_04102020\", \"deaths_04102020\"], axis = 1)\n",
    "\n",
    "#Automobiles and stateGDP (~0.98), Buses and stateGDP (~0.92), Buses and Automobiles (~0.94), \n",
    "#num_hospitals_2019 and stateGDP ~0.92), num_hospitals_2019 and Automobiles, num_hospitals_2019 and Buses,\n",
    "#num_active_doct_2019 and the following: stateGDP, Automobiles, BUses, num_hospitals_2019\n"
   ]
  },
  {
   "cell_type": "code",
   "execution_count": 51,
   "metadata": {},
   "outputs": [
    {
     "data": {
      "text/html": [
       "<div>\n",
       "<style scoped>\n",
       "    .dataframe tbody tr th:only-of-type {\n",
       "        vertical-align: middle;\n",
       "    }\n",
       "\n",
       "    .dataframe tbody tr th {\n",
       "        vertical-align: top;\n",
       "    }\n",
       "\n",
       "    .dataframe thead th {\n",
       "        text-align: right;\n",
       "    }\n",
       "</style>\n",
       "<table border=\"1\" class=\"dataframe\">\n",
       "  <thead>\n",
       "    <tr style=\"text-align: right;\">\n",
       "      <th></th>\n",
       "      <th>Density</th>\n",
       "      <th>LandArea</th>\n",
       "      <th>stateGDP</th>\n",
       "      <th>Airports</th>\n",
       "      <th>Automobiles</th>\n",
       "      <th>Buses</th>\n",
       "      <th>num_hospitals_2019</th>\n",
       "      <th>num_active_doct_2019</th>\n",
       "      <th>avg_income_2019</th>\n",
       "      <th>proportion_uninsured_2018</th>\n",
       "    </tr>\n",
       "  </thead>\n",
       "  <tbody>\n",
       "    <tr>\n",
       "      <td>Density</td>\n",
       "      <td>1.000000</td>\n",
       "      <td>-0.344437</td>\n",
       "      <td>0.176284</td>\n",
       "      <td>-0.105906</td>\n",
       "      <td>0.147583</td>\n",
       "      <td>0.151939</td>\n",
       "      <td>0.070470</td>\n",
       "      <td>0.260231</td>\n",
       "      <td>0.549422</td>\n",
       "      <td>-0.356028</td>\n",
       "    </tr>\n",
       "    <tr>\n",
       "      <td>LandArea</td>\n",
       "      <td>-0.344437</td>\n",
       "      <td>1.000000</td>\n",
       "      <td>0.164976</td>\n",
       "      <td>0.481639</td>\n",
       "      <td>0.126613</td>\n",
       "      <td>0.130439</td>\n",
       "      <td>0.160974</td>\n",
       "      <td>0.079315</td>\n",
       "      <td>-0.057519</td>\n",
       "      <td>0.460541</td>\n",
       "    </tr>\n",
       "    <tr>\n",
       "      <td>stateGDP</td>\n",
       "      <td>0.176284</td>\n",
       "      <td>0.164976</td>\n",
       "      <td>1.000000</td>\n",
       "      <td>0.707783</td>\n",
       "      <td>0.981984</td>\n",
       "      <td>0.920599</td>\n",
       "      <td>0.915290</td>\n",
       "      <td>0.966842</td>\n",
       "      <td>0.248035</td>\n",
       "      <td>0.173345</td>\n",
       "    </tr>\n",
       "    <tr>\n",
       "      <td>Airports</td>\n",
       "      <td>-0.105906</td>\n",
       "      <td>0.481639</td>\n",
       "      <td>0.707783</td>\n",
       "      <td>1.000000</td>\n",
       "      <td>0.700324</td>\n",
       "      <td>0.741576</td>\n",
       "      <td>0.847036</td>\n",
       "      <td>0.686929</td>\n",
       "      <td>-0.026697</td>\n",
       "      <td>0.486360</td>\n",
       "    </tr>\n",
       "    <tr>\n",
       "      <td>Automobiles</td>\n",
       "      <td>0.147583</td>\n",
       "      <td>0.126613</td>\n",
       "      <td>0.981984</td>\n",
       "      <td>0.700324</td>\n",
       "      <td>1.000000</td>\n",
       "      <td>0.938904</td>\n",
       "      <td>0.926869</td>\n",
       "      <td>0.973118</td>\n",
       "      <td>0.172345</td>\n",
       "      <td>0.197511</td>\n",
       "    </tr>\n",
       "    <tr>\n",
       "      <td>Buses</td>\n",
       "      <td>0.151939</td>\n",
       "      <td>0.130439</td>\n",
       "      <td>0.920599</td>\n",
       "      <td>0.741576</td>\n",
       "      <td>0.938904</td>\n",
       "      <td>1.000000</td>\n",
       "      <td>0.913632</td>\n",
       "      <td>0.927990</td>\n",
       "      <td>0.153151</td>\n",
       "      <td>0.227395</td>\n",
       "    </tr>\n",
       "    <tr>\n",
       "      <td>num_hospitals_2019</td>\n",
       "      <td>0.070470</td>\n",
       "      <td>0.160974</td>\n",
       "      <td>0.915290</td>\n",
       "      <td>0.847036</td>\n",
       "      <td>0.926869</td>\n",
       "      <td>0.913632</td>\n",
       "      <td>1.000000</td>\n",
       "      <td>0.913304</td>\n",
       "      <td>-0.006138</td>\n",
       "      <td>0.365540</td>\n",
       "    </tr>\n",
       "    <tr>\n",
       "      <td>num_active_doct_2019</td>\n",
       "      <td>0.260231</td>\n",
       "      <td>0.079315</td>\n",
       "      <td>0.966842</td>\n",
       "      <td>0.686929</td>\n",
       "      <td>0.973118</td>\n",
       "      <td>0.927990</td>\n",
       "      <td>0.913304</td>\n",
       "      <td>1.000000</td>\n",
       "      <td>0.251001</td>\n",
       "      <td>0.091121</td>\n",
       "    </tr>\n",
       "    <tr>\n",
       "      <td>avg_income_2019</td>\n",
       "      <td>0.549422</td>\n",
       "      <td>-0.057519</td>\n",
       "      <td>0.248035</td>\n",
       "      <td>-0.026697</td>\n",
       "      <td>0.172345</td>\n",
       "      <td>0.153151</td>\n",
       "      <td>-0.006138</td>\n",
       "      <td>0.251001</td>\n",
       "      <td>1.000000</td>\n",
       "      <td>-0.442790</td>\n",
       "    </tr>\n",
       "    <tr>\n",
       "      <td>proportion_uninsured_2018</td>\n",
       "      <td>-0.356028</td>\n",
       "      <td>0.460541</td>\n",
       "      <td>0.173345</td>\n",
       "      <td>0.486360</td>\n",
       "      <td>0.197511</td>\n",
       "      <td>0.227395</td>\n",
       "      <td>0.365540</td>\n",
       "      <td>0.091121</td>\n",
       "      <td>-0.442790</td>\n",
       "      <td>1.000000</td>\n",
       "    </tr>\n",
       "  </tbody>\n",
       "</table>\n",
       "</div>"
      ],
      "text/plain": [
       "                            Density  LandArea  stateGDP  Airports  \\\n",
       "Density                    1.000000 -0.344437  0.176284 -0.105906   \n",
       "LandArea                  -0.344437  1.000000  0.164976  0.481639   \n",
       "stateGDP                   0.176284  0.164976  1.000000  0.707783   \n",
       "Airports                  -0.105906  0.481639  0.707783  1.000000   \n",
       "Automobiles                0.147583  0.126613  0.981984  0.700324   \n",
       "Buses                      0.151939  0.130439  0.920599  0.741576   \n",
       "num_hospitals_2019         0.070470  0.160974  0.915290  0.847036   \n",
       "num_active_doct_2019       0.260231  0.079315  0.966842  0.686929   \n",
       "avg_income_2019            0.549422 -0.057519  0.248035 -0.026697   \n",
       "proportion_uninsured_2018 -0.356028  0.460541  0.173345  0.486360   \n",
       "\n",
       "                           Automobiles     Buses  num_hospitals_2019  \\\n",
       "Density                       0.147583  0.151939            0.070470   \n",
       "LandArea                      0.126613  0.130439            0.160974   \n",
       "stateGDP                      0.981984  0.920599            0.915290   \n",
       "Airports                      0.700324  0.741576            0.847036   \n",
       "Automobiles                   1.000000  0.938904            0.926869   \n",
       "Buses                         0.938904  1.000000            0.913632   \n",
       "num_hospitals_2019            0.926869  0.913632            1.000000   \n",
       "num_active_doct_2019          0.973118  0.927990            0.913304   \n",
       "avg_income_2019               0.172345  0.153151           -0.006138   \n",
       "proportion_uninsured_2018     0.197511  0.227395            0.365540   \n",
       "\n",
       "                           num_active_doct_2019  avg_income_2019  \\\n",
       "Density                                0.260231         0.549422   \n",
       "LandArea                               0.079315        -0.057519   \n",
       "stateGDP                               0.966842         0.248035   \n",
       "Airports                               0.686929        -0.026697   \n",
       "Automobiles                            0.973118         0.172345   \n",
       "Buses                                  0.927990         0.153151   \n",
       "num_hospitals_2019                     0.913304        -0.006138   \n",
       "num_active_doct_2019                   1.000000         0.251001   \n",
       "avg_income_2019                        0.251001         1.000000   \n",
       "proportion_uninsured_2018              0.091121        -0.442790   \n",
       "\n",
       "                           proportion_uninsured_2018  \n",
       "Density                                    -0.356028  \n",
       "LandArea                                    0.460541  \n",
       "stateGDP                                    0.173345  \n",
       "Airports                                    0.486360  \n",
       "Automobiles                                 0.197511  \n",
       "Buses                                       0.227395  \n",
       "num_hospitals_2019                          0.365540  \n",
       "num_active_doct_2019                        0.091121  \n",
       "avg_income_2019                            -0.442790  \n",
       "proportion_uninsured_2018                   1.000000  "
      ]
     },
     "execution_count": 51,
     "metadata": {},
     "output_type": "execute_result"
    }
   ],
   "source": [
    "df.corr()"
   ]
  },
  {
   "cell_type": "code",
   "execution_count": 15,
   "metadata": {
    "scrolled": true
   },
   "outputs": [
    {
     "ename": "IndentationError",
     "evalue": "unexpected indent (<ipython-input-15-5198da333af9>, line 3)",
     "output_type": "error",
     "traceback": [
      "\u001b[0;36m  File \u001b[0;32m\"<ipython-input-15-5198da333af9>\"\u001b[0;36m, line \u001b[0;32m3\u001b[0m\n\u001b[0;31m    'Automobiles', 'Buses']], covid_data[['deaths_04102020']])\u001b[0m\n\u001b[0m    ^\u001b[0m\n\u001b[0;31mIndentationError\u001b[0m\u001b[0;31m:\u001b[0m unexpected indent\n"
     ]
    }
   ],
   "source": [
    "#reg = linear_model.LinearRegression()\n",
    "#reg.fit(covid_data[['Density', 'LandArea', 'stateGDP', 'Airports', \n",
    "                    'Automobiles', 'Buses']], covid_data[['deaths_04102020']])"
   ]
  },
  {
   "cell_type": "code",
   "execution_count": 23,
   "metadata": {
    "scrolled": true
   },
   "outputs": [
    {
     "data": {
      "text/plain": [
       "Text(0, 0.5, 'Number of COVID-19 cases')"
      ]
     },
     "execution_count": 23,
     "metadata": {},
     "output_type": "execute_result"
    },
    {
     "data": {
      "image/png": "[encoded data removed]",
      "text/plain": [
       "<Figure size 432x288 with 1 Axes>"
      ]
     },
     "metadata": {
      "needs_background": "light"
     },
     "output_type": "display_data"
    }
   ],
   "source": [
    "plt.scatter(covid_data[\"Density\"], covid_data[\"positive_04102020\"], color = 'red')\n",
    "plt.xlabel('Population Density')\n",
    "plt.ylabel('Number of COVID-19 cases')\n",
    "\n",
    "#Shows linear trend"
   ]
  },
  {
   "cell_type": "code",
   "execution_count": 32,
   "metadata": {
    "scrolled": true
   },
   "outputs": [
    {
     "data": {
      "image/png": "[encoded data removed]",
      "text/plain": [
       "<Figure size 432x288 with 1 Axes>"
      ]
     },
     "execution_count": 32,
     "metadata": {},
     "output_type": "execute_result"
    },
    {
     "data": {
      "image/png": "[encoded data removed]",
      "text/plain": [
       "<Figure size 432x288 with 1 Axes>"
      ]
     },
     "metadata": {
      "needs_background": "light"
     },
     "output_type": "display_data"
    }
   ],
   "source": [
    "qqplot(covid_data[\"Density\"], line = 's')\n",
    "\n",
    "#Doesn't satisfy normality assumption"
   ]
  },
  {
   "cell_type": "code",
   "execution_count": 24,
   "metadata": {
    "scrolled": true
   },
   "outputs": [
    {
     "data": {
      "text/plain": [
       "Text(0, 0.5, 'Number of COVID-19 cases')"
      ]
     },
     "execution_count": 24,
     "metadata": {},
     "output_type": "execute_result"
    },
    {
     "data": {
      "image/png": "[encoded data removed]",
      "text/plain": [
       "<Figure size 432x288 with 1 Axes>"
      ]
     },
     "metadata": {
      "needs_background": "light"
     },
     "output_type": "display_data"
    }
   ],
   "source": [
    "plt.scatter(covid_data[\"stateGDP\"], covid_data[\"positive_04102020\"], color = 'red')\n",
    "plt.xlabel('State GDP')\n",
    "plt.ylabel('Number of COVID-19 cases')\n",
    "\n",
    "#Shows linear trend"
   ]
  },
  {
   "cell_type": "code",
   "execution_count": 35,
   "metadata": {},
   "outputs": [
    {
     "data": {
      "image/png": "[encoded data removed]",
      "text/plain": [
       "<Figure size 432x288 with 1 Axes>"
      ]
     },
     "execution_count": 35,
     "metadata": {},
     "output_type": "execute_result"
    },
    {
     "data": {
      "image/png": "[encoded data removed]",
      "text/plain": [
       "<Figure size 432x288 with 1 Axes>"
      ]
     },
     "metadata": {
      "needs_background": "light"
     },
     "output_type": "display_data"
    }
   ],
   "source": [
    "qqplot(covid_data[\"stateGDP\"], line = 's')\n",
    "\n",
    "#Doesn't satisfy normality assumption"
   ]
  },
  {
   "cell_type": "code",
   "execution_count": 27,
   "metadata": {},
   "outputs": [
    {
     "data": {
      "text/plain": [
       "Text(0, 0.5, 'Number of COVID-19 cases')"
      ]
     },
     "execution_count": 27,
     "metadata": {},
     "output_type": "execute_result"
    },
    {
     "data": {
      "image/png": "[encoded data removed]",
      "text/plain": [
       "<Figure size 432x288 with 1 Axes>"
      ]
     },
     "metadata": {
      "needs_background": "light"
     },
     "output_type": "display_data"
    }
   ],
   "source": [
    "plt.scatter(covid_data[\"Airports\"], covid_data[\"positive_04102020\"], color = 'red')\n",
    "plt.xlabel('Number of Airports')\n",
    "plt.ylabel('Number of COVID-19 cases')\n",
    "\n",
    "#Shows linear trend"
   ]
  },
  {
   "cell_type": "code",
   "execution_count": 36,
   "metadata": {},
   "outputs": [
    {
     "data": {
      "image/png": "[encoded data removed]",
      "text/plain": [
       "<Figure size 432x288 with 1 Axes>"
      ]
     },
     "execution_count": 36,
     "metadata": {},
     "output_type": "execute_result"
    },
    {
     "data": {
      "image/png": "[encoded data removed]",
      "text/plain": [
       "<Figure size 432x288 with 1 Axes>"
      ]
     },
     "metadata": {
      "needs_background": "light"
     },
     "output_type": "display_data"
    }
   ],
   "source": [
    "qqplot(covid_data[\"Airports\"], line = 's')\n",
    "\n",
    "#Satisfies normality assumption (except one outlier at the top right corner)"
   ]
  },
  {
   "cell_type": "code",
   "execution_count": 4,
   "metadata": {
    "scrolled": true
   },
   "outputs": [
    {
     "data": {
      "text/plain": [
       "Text(0, 0.5, 'Number of COVID-19 cases')"
      ]
     },
     "execution_count": 4,
     "metadata": {},
     "output_type": "execute_result"
    },
    {
     "data": {
      "image/png": "[encoded data removed]",
      "text/plain": [
       "<Figure size 432x288 with 1 Axes>"
      ]
     },
     "metadata": {
      "needs_background": "light"
     },
     "output_type": "display_data"
    }
   ],
   "source": [
    "plt.scatter(covid_data[\"Automobiles\"], covid_data[\"positive_04102020\"], color = 'red')\n",
    "plt.xlabel('Number of Automobiles')\n",
    "plt.ylabel('Number of COVID-19 cases')\n",
    "\n",
    "#shows linear trend"
   ]
  },
  {
   "cell_type": "code",
   "execution_count": 37,
   "metadata": {},
   "outputs": [
    {
     "data": {
      "image/png": "[encoded data removed]",
      "text/plain": [
       "<Figure size 432x288 with 1 Axes>"
      ]
     },
     "execution_count": 37,
     "metadata": {},
     "output_type": "execute_result"
    },
    {
     "data": {
      "image/png": "[encoded data removed]",
      "text/plain": [
       "<Figure size 432x288 with 1 Axes>"
      ]
     },
     "metadata": {
      "needs_background": "light"
     },
     "output_type": "display_data"
    }
   ],
   "source": [
    "qqplot(covid_data[\"Automobiles\"], line = 's')\n",
    "\n",
    "#Relatively checks normality assumption"
   ]
  },
  {
   "cell_type": "code",
   "execution_count": 6,
   "metadata": {},
   "outputs": [
    {
     "data": {
      "text/plain": [
       "Text(0, 0.5, 'Number of COVID-19 cases')"
      ]
     },
     "execution_count": 6,
     "metadata": {},
     "output_type": "execute_result"
    },
    {
     "data": {
      "image/png": "[encoded data removed]",
      "text/plain": [
       "<Figure size 432x288 with 1 Axes>"
      ]
     },
     "metadata": {
      "needs_background": "light"
     },
     "output_type": "display_data"
    }
   ],
   "source": [
    "plt.scatter(covid_data[\"Buses\"], covid_data[\"positive_04102020\"], color = 'red')\n",
    "plt.xlabel('Number of Buses')\n",
    "plt.ylabel('Number of COVID-19 cases')\n",
    "\n",
    "#Shows very linear trend (except one outlier at the top of the graph). "
   ]
  },
  {
   "cell_type": "code",
   "execution_count": 38,
   "metadata": {},
   "outputs": [
    {
     "data": {
      "image/png": "[encoded data removed]",
      "text/plain": [
       "<Figure size 432x288 with 1 Axes>"
      ]
     },
     "execution_count": 38,
     "metadata": {},
     "output_type": "execute_result"
    },
    {
     "data": {
      "image/png": "[encoded data removed]",
      "text/plain": [
       "<Figure size 432x288 with 1 Axes>"
      ]
     },
     "metadata": {
      "needs_background": "light"
     },
     "output_type": "display_data"
    }
   ],
   "source": [
    "qqplot(covid_data[\"Buses\"], line = 's')\n",
    "\n",
    "#Doesn't check normality assumption"
   ]
  },
  {
   "cell_type": "code",
   "execution_count": 8,
   "metadata": {},
   "outputs": [
    {
     "data": {
      "text/plain": [
       "Text(0, 0.5, 'Number of COVID-19 cases')"
      ]
     },
     "execution_count": 8,
     "metadata": {},
     "output_type": "execute_result"
    },
    {
     "data": {
      "image/png": "[encoded data removed]",
      "text/plain": [
       "<Figure size 432x288 with 1 Axes>"
      ]
     },
     "metadata": {
      "needs_background": "light"
     },
     "output_type": "display_data"
    }
   ],
   "source": [
    "plt.scatter(covid_data[\"num_hospitals_2019\"], covid_data[\"positive_04102020\"], color = 'red')\n",
    "plt.xlabel('Number of Hospitals')\n",
    "plt.ylabel('Number of COVID-19 cases')\n",
    "\n",
    "#Shows very linear trend (except one outlier at the top of the graph). "
   ]
  },
  {
   "cell_type": "code",
   "execution_count": 39,
   "metadata": {},
   "outputs": [
    {
     "data": {
      "image/png": "[encoded data removed]",
      "text/plain": [
       "<Figure size 432x288 with 1 Axes>"
      ]
     },
     "execution_count": 39,
     "metadata": {},
     "output_type": "execute_result"
    },
    {
     "data": {
      "image/png": "[encoded data removed]",
      "text/plain": [
       "<Figure size 432x288 with 1 Axes>"
      ]
     },
     "metadata": {
      "needs_background": "light"
     },
     "output_type": "display_data"
    }
   ],
   "source": [
    "qqplot(covid_data[\"num_hospitals_2019\"], line = 's')\n",
    "\n",
    "#Doesn't check normality assumption"
   ]
  },
  {
   "cell_type": "code",
   "execution_count": 10,
   "metadata": {},
   "outputs": [
    {
     "data": {
      "text/plain": [
       "Text(0, 0.5, 'Number of COVID-19 cases')"
      ]
     },
     "execution_count": 10,
     "metadata": {},
     "output_type": "execute_result"
    },
    {
     "data": {
      "image/png": "[encoded data removed]",
      "text/plain": [
       "<Figure size 432x288 with 1 Axes>"
      ]
     },
     "metadata": {
      "needs_background": "light"
     },
     "output_type": "display_data"
    }
   ],
   "source": [
    "plt.scatter(covid_data[\"num_active_doct_2019\"], covid_data[\"positive_04102020\"], color = 'red')\n",
    "plt.xlabel('Number of Active Doctors')\n",
    "plt.ylabel('Number of COVID-19 cases')\n",
    "\n",
    "#Shows linear trend (except one outlier at the top of the graph). "
   ]
  },
  {
   "cell_type": "code",
   "execution_count": 40,
   "metadata": {},
   "outputs": [
    {
     "data": {
      "image/png": "[encoded data removed]",
      "text/plain": [
       "<Figure size 432x288 with 1 Axes>"
      ]
     },
     "execution_count": 40,
     "metadata": {},
     "output_type": "execute_result"
    },
    {
     "data": {
      "image/png": "[encoded data removed]",
      "text/plain": [
       "<Figure size 432x288 with 1 Axes>"
      ]
     },
     "metadata": {
      "needs_background": "light"
     },
     "output_type": "display_data"
    }
   ],
   "source": [
    "qqplot(covid_data[\"num_active_doct_2019\"], line = 's')\n",
    "\n",
    "#Doesn't check normality assumption"
   ]
  },
  {
   "cell_type": "code",
   "execution_count": 12,
   "metadata": {},
   "outputs": [
    {
     "data": {
      "text/plain": [
       "Text(0, 0.5, 'Number of COVID-19 cases')"
      ]
     },
     "execution_count": 12,
     "metadata": {},
     "output_type": "execute_result"
    },
    {
     "data": {
      "image/png": "[encoded data removed]",
      "text/plain": [
       "<Figure size 432x288 with 1 Axes>"
      ]
     },
     "metadata": {
      "needs_background": "light"
     },
     "output_type": "display_data"
    }
   ],
   "source": [
    "plt.scatter(covid_data[\"avg_income_2019\"], covid_data[\"positive_04102020\"], color = 'red')\n",
    "plt.xlabel('Average Income')\n",
    "plt.ylabel('Number of COVID-19 cases')\n",
    "\n",
    "#Doesn't show a very linear trend"
   ]
  },
  {
   "cell_type": "code",
   "execution_count": 41,
   "metadata": {},
   "outputs": [
    {
     "data": {
      "image/png": "[encoded data removed]",
      "text/plain": [
       "<Figure size 432x288 with 1 Axes>"
      ]
     },
     "execution_count": 41,
     "metadata": {},
     "output_type": "execute_result"
    },
    {
     "data": {
      "image/png": "[encoded data removed]",
      "text/plain": [
       "<Figure size 432x288 with 1 Axes>"
      ]
     },
     "metadata": {
      "needs_background": "light"
     },
     "output_type": "display_data"
    }
   ],
   "source": [
    "qqplot(covid_data[\"avg_income_2019\"], line = 's')\n",
    "\n",
    "#Barely checks normality assumption"
   ]
  },
  {
   "cell_type": "code",
   "execution_count": 14,
   "metadata": {
    "scrolled": true
   },
   "outputs": [
    {
     "data": {
      "text/plain": [
       "Text(0, 0.5, 'Number of COVID-19 cases')"
      ]
     },
     "execution_count": 14,
     "metadata": {},
     "output_type": "execute_result"
    },
    {
     "data": {
      "image/png": "[encoded data removed]",
      "text/plain": [
       "<Figure size 432x288 with 1 Axes>"
      ]
     },
     "metadata": {
      "needs_background": "light"
     },
     "output_type": "display_data"
    }
   ],
   "source": [
    "plt.scatter(covid_data[\"proportion_uninsured_2018\"], covid_data[\"positive_04102020\"], color = 'red')\n",
    "plt.xlabel('Proportion Uninsured')\n",
    "plt.ylabel('Number of COVID-19 cases')\n",
    "\n",
    "#Definitely doesn't show linear trend"
   ]
  },
  {
   "cell_type": "code",
   "execution_count": 42,
   "metadata": {},
   "outputs": [
    {
     "data": {
      "image/png": "[encoded data removed]",
      "text/plain": [
       "<Figure size 432x288 with 1 Axes>"
      ]
     },
     "execution_count": 42,
     "metadata": {},
     "output_type": "execute_result"
    },
    {
     "data": {
      "image/png": "[encoded data removed]",
      "text/plain": [
       "<Figure size 432x288 with 1 Axes>"
      ]
     },
     "metadata": {
      "needs_background": "light"
     },
     "output_type": "display_data"
    }
   ],
   "source": [
    "qqplot(covid_data[\"proportion_uninsured_2018\"], line = 's')\n",
    "\n",
    "#Doesn't check normality assumption\n"
   ]
  },
  {
   "cell_type": "code",
   "execution_count": 25,
   "metadata": {
    "scrolled": true
   },
   "outputs": [
    {
     "data": {
      "text/plain": [
       "Text(0, 0.5, 'Number of Deaths')"
      ]
     },
     "execution_count": 25,
     "metadata": {},
     "output_type": "execute_result"
    },
    {
     "data": {
      "image/png": "[encoded data removed]",
      "text/plain": [
       "<Figure size 432x288 with 1 Axes>"
      ]
     },
     "metadata": {
      "needs_background": "light"
     },
     "output_type": "display_data"
    }
   ],
   "source": [
    "plt.scatter(covid_data[\"Density\"], covid_data[\"deaths_04102020\"], color = 'red')\n",
    "plt.xlabel('Population Density')\n",
    "plt.ylabel('Number of Deaths')\n",
    "\n",
    "#Shows linear trend"
   ]
  },
  {
   "cell_type": "code",
   "execution_count": 26,
   "metadata": {},
   "outputs": [
    {
     "data": {
      "text/plain": [
       "Text(0, 0.5, 'Number of COVID-19 cases')"
      ]
     },
     "execution_count": 26,
     "metadata": {},
     "output_type": "execute_result"
    },
    {
     "data": {
      "image/png": "[encoded data removed]",
      "text/plain": [
       "<Figure size 432x288 with 1 Axes>"
      ]
     },
     "metadata": {
      "needs_background": "light"
     },
     "output_type": "display_data"
    }
   ],
   "source": [
    "plt.scatter(covid_data[\"stateGDP\"], covid_data[\"deaths_04102020\"], color = 'red')\n",
    "plt.xlabel('State GDP')\n",
    "plt.ylabel('Number of COVID-19 cases')\n",
    "\n",
    "#Shows linear trend"
   ]
  },
  {
   "cell_type": "code",
   "execution_count": 28,
   "metadata": {},
   "outputs": [
    {
     "data": {
      "text/plain": [
       "Text(0, 0.5, 'Number of Deaths')"
      ]
     },
     "execution_count": 28,
     "metadata": {},
     "output_type": "execute_result"
    },
    {
     "data": {
      "image/png": "[encoded data removed]",
      "text/plain": [
       "<Figure size 432x288 with 1 Axes>"
      ]
     },
     "metadata": {
      "needs_background": "light"
     },
     "output_type": "display_data"
    }
   ],
   "source": [
    "plt.scatter(covid_data[\"Airports\"], covid_data[\"deaths_04102020\"], color = 'red')\n",
    "plt.xlabel('Number of Airports')\n",
    "plt.ylabel('Number of Deaths')\n",
    "\n",
    "#Shows linear trend"
   ]
  },
  {
   "cell_type": "code",
   "execution_count": 5,
   "metadata": {},
   "outputs": [
    {
     "data": {
      "text/plain": [
       "Text(0, 0.5, 'Number of Deaths')"
      ]
     },
     "execution_count": 5,
     "metadata": {},
     "output_type": "execute_result"
    },
    {
     "data": {
      "image/png": "[encoded data removed]",
      "text/plain": [
       "<Figure size 432x288 with 1 Axes>"
      ]
     },
     "metadata": {
      "needs_background": "light"
     },
     "output_type": "display_data"
    }
   ],
   "source": [
    "plt.scatter(covid_data[\"Automobiles\"], covid_data[\"deaths_04102020\"], color = 'red')\n",
    "plt.xlabel('Number of Automobiles')\n",
    "plt.ylabel('Number of Deaths')\n",
    "\n",
    "#shows linear trend"
   ]
  },
  {
   "cell_type": "code",
   "execution_count": 7,
   "metadata": {},
   "outputs": [
    {
     "data": {
      "text/plain": [
       "Text(0, 0.5, 'Number of Deaths')"
      ]
     },
     "execution_count": 7,
     "metadata": {},
     "output_type": "execute_result"
    },
    {
     "data": {
      "image/png": "[encoded data removed]",
      "text/plain": [
       "<Figure size 432x288 with 1 Axes>"
      ]
     },
     "metadata": {
      "needs_background": "light"
     },
     "output_type": "display_data"
    }
   ],
   "source": [
    "plt.scatter(covid_data[\"Buses\"], covid_data[\"deaths_04102020\"], color = 'red')\n",
    "plt.xlabel('Number of Buses')\n",
    "plt.ylabel('Number of Deaths')\n",
    "\n",
    "#Shows very linear trend (except two outliers at the top of the graph). "
   ]
  },
  {
   "cell_type": "code",
   "execution_count": 9,
   "metadata": {},
   "outputs": [
    {
     "data": {
      "text/plain": [
       "Text(0, 0.5, 'Number of Deaths')"
      ]
     },
     "execution_count": 9,
     "metadata": {},
     "output_type": "execute_result"
    },
    {
     "data": {
      "image/png": "[encoded data removed]",
      "text/plain": [
       "<Figure size 432x288 with 1 Axes>"
      ]
     },
     "metadata": {
      "needs_background": "light"
     },
     "output_type": "display_data"
    }
   ],
   "source": [
    "plt.scatter(covid_data[\"num_hospitals_2019\"], covid_data[\"deaths_04102020\"], color = 'red')\n",
    "plt.xlabel('Number of Hospitals')\n",
    "plt.ylabel('Number of Deaths')\n",
    "\n",
    "#Shows linear trend (except two outliers at the top of the graph). "
   ]
  },
  {
   "cell_type": "code",
   "execution_count": 11,
   "metadata": {},
   "outputs": [
    {
     "data": {
      "text/plain": [
       "Text(0, 0.5, 'Number of Deaths')"
      ]
     },
     "execution_count": 11,
     "metadata": {},
     "output_type": "execute_result"
    },
    {
     "data": {
      "image/png": "[encoded data removed]",
      "text/plain": [
       "<Figure size 432x288 with 1 Axes>"
      ]
     },
     "metadata": {
      "needs_background": "light"
     },
     "output_type": "display_data"
    }
   ],
   "source": [
    "plt.scatter(covid_data[\"num_active_doct_2019\"], covid_data[\"deaths_04102020\"], color = 'red')\n",
    "plt.xlabel('Number of Active Doctors')\n",
    "plt.ylabel('Number of Deaths')\n",
    "\n",
    "#Shows somewhat linear trend"
   ]
  },
  {
   "cell_type": "code",
   "execution_count": 13,
   "metadata": {},
   "outputs": [
    {
     "data": {
      "text/plain": [
       "Text(0, 0.5, 'Number of Deaths')"
      ]
     },
     "execution_count": 13,
     "metadata": {},
     "output_type": "execute_result"
    },
    {
     "data": {
      "image/png": "[encoded data removed]",
      "text/plain": [
       "<Figure size 432x288 with 1 Axes>"
      ]
     },
     "metadata": {
      "needs_background": "light"
     },
     "output_type": "display_data"
    }
   ],
   "source": [
    "plt.scatter(covid_data[\"avg_income_2019\"], covid_data[\"deaths_04102020\"], color = 'red')\n",
    "plt.xlabel('Average Income')\n",
    "plt.ylabel('Number of Deaths')\n",
    "\n",
    "#Doesn't show a linear trend"
   ]
  },
  {
   "cell_type": "code",
   "execution_count": 15,
   "metadata": {},
   "outputs": [
    {
     "data": {
      "text/plain": [
       "Text(0, 0.5, 'Number of Deaths')"
      ]
     },
     "execution_count": 15,
     "metadata": {},
     "output_type": "execute_result"
    },
    {
     "data": {
      "image/png": "[encoded data removed]",
      "text/plain": [
       "<Figure size 432x288 with 1 Axes>"
      ]
     },
     "metadata": {
      "needs_background": "light"
     },
     "output_type": "display_data"
    }
   ],
   "source": [
    "plt.scatter(covid_data[\"proportion_uninsured_2018\"], covid_data[\"positive_04102020\"], color = 'red')\n",
    "plt.xlabel('Proportion Uninsured')\n",
    "plt.ylabel('Number of Deaths')\n",
    "\n",
    "#Doesn't show a linear trend"
   ]
  },
  {
   "cell_type": "code",
   "execution_count": 52,
   "metadata": {
    "scrolled": true
   },
   "outputs": [
    {
     "data": {
      "text/html": [
       "<table class=\"simpletable\">\n",
       "<tr>\n",
       "                     <td></td>                        <th>coef</th>     <th>std err</th>      <th>t</th>      <th>P>|t|</th>  <th>[0.025</th>    <th>0.975]</th>  \n",
       "</tr>\n",
       "<tr>\n",
       "  <th>Intercept</th>                               <td> -275.0870</td> <td>  450.010</td> <td>   -0.611</td> <td> 0.546</td> <td>-1195.461</td> <td>  645.287</td>\n",
       "</tr>\n",
       "<tr>\n",
       "  <th>Density</th>                                 <td>    0.5589</td> <td>    0.186</td> <td>    3.011</td> <td> 0.005</td> <td>    0.179</td> <td>    0.939</td>\n",
       "</tr>\n",
       "<tr>\n",
       "  <th>LandArea</th>                                <td>   -0.0009</td> <td>    0.001</td> <td>   -1.272</td> <td> 0.213</td> <td>   -0.002</td> <td>    0.001</td>\n",
       "</tr>\n",
       "<tr>\n",
       "  <th>stateGDP</th>                                <td>    0.0025</td> <td>    0.002</td> <td>    1.315</td> <td> 0.199</td> <td>   -0.001</td> <td>    0.006</td>\n",
       "</tr>\n",
       "<tr>\n",
       "  <th>Airports</th>                                <td>    0.7193</td> <td>    0.433</td> <td>    1.662</td> <td> 0.107</td> <td>   -0.166</td> <td>    1.605</td>\n",
       "</tr>\n",
       "<tr>\n",
       "  <th>Automobiles</th>                             <td>-8.623e-05</td> <td>    0.000</td> <td>   -0.246</td> <td> 0.808</td> <td>   -0.001</td> <td>    0.001</td>\n",
       "</tr>\n",
       "<tr>\n",
       "  <th>Buses</th>                                   <td>   -0.0197</td> <td>    0.022</td> <td>   -0.902</td> <td> 0.375</td> <td>   -0.064</td> <td>    0.025</td>\n",
       "</tr>\n",
       "<tr>\n",
       "  <th>num_hospitals_2019</th>                      <td>    1.5658</td> <td>    4.779</td> <td>    0.328</td> <td> 0.746</td> <td>   -8.208</td> <td>   11.340</td>\n",
       "</tr>\n",
       "<tr>\n",
       "  <th>num_active_doct_2019</th>                    <td>   -0.0391</td> <td>    0.032</td> <td>   -1.223</td> <td> 0.231</td> <td>   -0.105</td> <td>    0.026</td>\n",
       "</tr>\n",
       "<tr>\n",
       "  <th>avg_income_2019</th>                         <td>    0.0005</td> <td>    0.004</td> <td>    0.113</td> <td> 0.911</td> <td>   -0.009</td> <td>    0.010</td>\n",
       "</tr>\n",
       "<tr>\n",
       "  <th>proportion_uninsured_2018</th>               <td> 2014.8295</td> <td> 1836.888</td> <td>    1.097</td> <td> 0.282</td> <td>-1742.029</td> <td> 5771.688</td>\n",
       "</tr>\n",
       "<tr>\n",
       "  <th>Automobiles:stateGDP</th>                    <td>-2.714e-09</td> <td> 1.18e-09</td> <td>   -2.304</td> <td> 0.029</td> <td>-5.12e-09</td> <td>-3.05e-10</td>\n",
       "</tr>\n",
       "<tr>\n",
       "  <th>Buses:stateGDP</th>                          <td> 4.276e-07</td> <td> 1.18e-07</td> <td>    3.632</td> <td> 0.001</td> <td> 1.87e-07</td> <td> 6.68e-07</td>\n",
       "</tr>\n",
       "<tr>\n",
       "  <th>Buses:Automobiles</th>                       <td>-5.912e-08</td> <td> 1.57e-08</td> <td>   -3.759</td> <td> 0.001</td> <td>-9.13e-08</td> <td>-2.69e-08</td>\n",
       "</tr>\n",
       "<tr>\n",
       "  <th>num_hospitals_2019:stateGDP</th>             <td>-3.029e-05</td> <td> 3.19e-05</td> <td>   -0.951</td> <td> 0.350</td> <td>-9.54e-05</td> <td> 3.49e-05</td>\n",
       "</tr>\n",
       "<tr>\n",
       "  <th>num_hospitals_2019:Automobiles</th>          <td> 5.076e-06</td> <td>  5.3e-06</td> <td>    0.958</td> <td> 0.346</td> <td>-5.77e-06</td> <td> 1.59e-05</td>\n",
       "</tr>\n",
       "<tr>\n",
       "  <th>num_hospitals_2019:Buses</th>                <td>    0.0009</td> <td>    0.000</td> <td>    2.690</td> <td> 0.012</td> <td>    0.000</td> <td>    0.002</td>\n",
       "</tr>\n",
       "<tr>\n",
       "  <th>num_active_doct_2019:stateGDP</th>           <td> 7.265e-09</td> <td> 7.78e-08</td> <td>    0.093</td> <td> 0.926</td> <td>-1.52e-07</td> <td> 1.66e-07</td>\n",
       "</tr>\n",
       "<tr>\n",
       "  <th>num_active_doct_2019:Automobiles</th>        <td>  8.48e-08</td> <td> 2.88e-08</td> <td>    2.949</td> <td> 0.006</td> <td>  2.6e-08</td> <td> 1.44e-07</td>\n",
       "</tr>\n",
       "<tr>\n",
       "  <th>num_active_doct_2019:Buses</th>              <td>-4.287e-06</td> <td> 1.24e-06</td> <td>   -3.470</td> <td> 0.002</td> <td>-6.81e-06</td> <td>-1.76e-06</td>\n",
       "</tr>\n",
       "<tr>\n",
       "  <th>num_active_doct_2019:num_hospitals_2019</th> <td>   -0.0011</td> <td>    0.001</td> <td>   -1.315</td> <td> 0.199</td> <td>   -0.003</td> <td>    0.001</td>\n",
       "</tr>\n",
       "</table>"
      ],
      "text/plain": [
       "<class 'statsmodels.iolib.table.SimpleTable'>"
      ]
     },
     "execution_count": 52,
     "metadata": {},
     "output_type": "execute_result"
    }
   ],
   "source": [
    "model = smf.ols(formula = 'deaths_04102020 ~ Density + LandArea + stateGDP + Airports + Automobiles + Buses + num_hospitals_2019 + num_active_doct_2019 + avg_income_2019 + proportion_uninsured_2018 + Automobiles*stateGDP + Buses*stateGDP + Buses*Automobiles + num_hospitals_2019*stateGDP + num_hospitals_2019*Automobiles + num_hospitals_2019*Buses + num_active_doct_2019*stateGDP + num_active_doct_2019*Automobiles + num_active_doct_2019*Buses + num_active_doct_2019*num_hospitals_2019', data = covid_data).fit()\n",
    "summary = model.summary()\n",
    "summary.tables[1]\n",
    "\n",
    "#Statistically significant coefficients for these predictor variables:\n",
    "#stateGDP, Automobiles, num_active_doct_2019, proportion_uninsured_2018 (in model with no interaction terms)\n",
    "#Automobiles, num_active_doct_2019 (in model with interaction terms)\n",
    "\n",
    "#Statistically significant coefficients for these predictor variables (after checking linearity assumption):\n",
    "#Density and num_active_doct_2019 (in model with no interaction terms)"
   ]
  },
  {
   "cell_type": "markdown",
   "metadata": {},
   "source": [
    "In the multiple linear regression model with interaction terms (that showed collinearity with correlation > 0.80) for predicting deaths, the variables with statistically significant coefficients are Density, Automobiles:stateGDP, Buses:stateGDP, Buses:Automobiles, num_hospitals_2019:Buses, num_active_doct_2019:Automobiles, num_active_doct_2019:Buses."
   ]
  },
  {
   "cell_type": "code",
   "execution_count": 54,
   "metadata": {},
   "outputs": [
    {
     "data": {
      "text/html": [
       "<table class=\"simpletable\">\n",
       "<tr>\n",
       "              <td></td>                 <th>coef</th>     <th>std err</th>      <th>t</th>      <th>P>|t|</th>  <th>[0.025</th>    <th>0.975]</th>  \n",
       "</tr>\n",
       "<tr>\n",
       "  <th>Intercept</th>                 <td>  -16.2387</td> <td>  428.356</td> <td>   -0.038</td> <td> 0.970</td> <td> -880.101</td> <td>  847.624</td>\n",
       "</tr>\n",
       "<tr>\n",
       "  <th>Density</th>                   <td>    0.7089</td> <td>    0.201</td> <td>    3.532</td> <td> 0.001</td> <td>    0.304</td> <td>    1.114</td>\n",
       "</tr>\n",
       "<tr>\n",
       "  <th>LandArea</th>                  <td>   -0.0004</td> <td>    0.001</td> <td>   -0.588</td> <td> 0.559</td> <td>   -0.002</td> <td>    0.001</td>\n",
       "</tr>\n",
       "<tr>\n",
       "  <th>Airports</th>                  <td>    0.3736</td> <td>    0.161</td> <td>    2.321</td> <td> 0.025</td> <td>    0.049</td> <td>    0.698</td>\n",
       "</tr>\n",
       "<tr>\n",
       "  <th>avg_income_2019</th>           <td>    0.0004</td> <td>    0.004</td> <td>    0.097</td> <td> 0.923</td> <td>   -0.008</td> <td>    0.009</td>\n",
       "</tr>\n",
       "<tr>\n",
       "  <th>proportion_uninsured_2018</th> <td> -805.3132</td> <td> 1882.408</td> <td>   -0.428</td> <td> 0.671</td> <td>-4601.550</td> <td> 2990.924</td>\n",
       "</tr>\n",
       "</table>"
      ],
      "text/plain": [
       "<class 'statsmodels.iolib.table.SimpleTable'>"
      ]
     },
     "execution_count": 54,
     "metadata": {},
     "output_type": "execute_result"
    }
   ],
   "source": [
    "model = smf.ols(formula = 'deaths_04102020 ~ Density + LandArea + Airports + avg_income_2019 + proportion_uninsured_2018', data = covid_data).fit()\n",
    "summary = model.summary()\n",
    "summary.tables[1]"
   ]
  },
  {
   "cell_type": "markdown",
   "metadata": {},
   "source": [
    "The multiple linear regression above is the previous regression with the variables with high collinearity removed (instead of keeping them in and adding interaction terms to account for the collinearity). \n",
    "-The variables with statistically significant coefficients in this model are Density and Airports."
   ]
  },
  {
   "cell_type": "code",
   "execution_count": 53,
   "metadata": {
    "scrolled": false
   },
   "outputs": [
    {
     "data": {
      "text/html": [
       "<table class=\"simpletable\">\n",
       "<tr>\n",
       "                     <td></td>                        <th>coef</th>     <th>std err</th>      <th>t</th>      <th>P>|t|</th>  <th>[0.025</th>    <th>0.975]</th>  \n",
       "</tr>\n",
       "<tr>\n",
       "  <th>Intercept</th>                               <td>-6680.2932</td> <td> 1.18e+04</td> <td>   -0.567</td> <td> 0.575</td> <td>-3.08e+04</td> <td> 1.74e+04</td>\n",
       "</tr>\n",
       "<tr>\n",
       "  <th>Density</th>                                 <td>   14.3936</td> <td>    4.857</td> <td>    2.964</td> <td> 0.006</td> <td>    4.461</td> <td>   24.327</td>\n",
       "</tr>\n",
       "<tr>\n",
       "  <th>LandArea</th>                                <td>   -0.0201</td> <td>    0.018</td> <td>   -1.135</td> <td> 0.266</td> <td>   -0.056</td> <td>    0.016</td>\n",
       "</tr>\n",
       "<tr>\n",
       "  <th>stateGDP</th>                                <td>    0.0681</td> <td>    0.050</td> <td>    1.372</td> <td> 0.180</td> <td>   -0.033</td> <td>    0.170</td>\n",
       "</tr>\n",
       "<tr>\n",
       "  <th>Airports</th>                                <td>   16.2718</td> <td>   11.325</td> <td>    1.437</td> <td> 0.161</td> <td>   -6.891</td> <td>   39.435</td>\n",
       "</tr>\n",
       "<tr>\n",
       "  <th>Automobiles</th>                             <td>   -0.0007</td> <td>    0.009</td> <td>   -0.071</td> <td> 0.944</td> <td>   -0.019</td> <td>    0.018</td>\n",
       "</tr>\n",
       "<tr>\n",
       "  <th>Buses</th>                                   <td>   -0.5799</td> <td>    0.572</td> <td>   -1.014</td> <td> 0.319</td> <td>   -1.749</td> <td>    0.589</td>\n",
       "</tr>\n",
       "<tr>\n",
       "  <th>num_hospitals_2019</th>                      <td>   26.8928</td> <td>  125.026</td> <td>    0.215</td> <td> 0.831</td> <td> -228.815</td> <td>  282.600</td>\n",
       "</tr>\n",
       "<tr>\n",
       "  <th>num_active_doct_2019</th>                    <td>   -1.2278</td> <td>    0.837</td> <td>   -1.467</td> <td> 0.153</td> <td>   -2.940</td> <td>    0.484</td>\n",
       "</tr>\n",
       "<tr>\n",
       "  <th>avg_income_2019</th>                         <td>    0.0118</td> <td>    0.117</td> <td>    0.101</td> <td> 0.920</td> <td>   -0.227</td> <td>    0.251</td>\n",
       "</tr>\n",
       "<tr>\n",
       "  <th>proportion_uninsured_2018</th>               <td> 6.077e+04</td> <td> 4.81e+04</td> <td>    1.264</td> <td> 0.216</td> <td>-3.75e+04</td> <td> 1.59e+05</td>\n",
       "</tr>\n",
       "<tr>\n",
       "  <th>Automobiles:stateGDP</th>                    <td>-7.884e-08</td> <td> 3.08e-08</td> <td>   -2.559</td> <td> 0.016</td> <td>-1.42e-07</td> <td>-1.58e-08</td>\n",
       "</tr>\n",
       "<tr>\n",
       "  <th>Buses:stateGDP</th>                          <td> 9.402e-06</td> <td> 3.08e-06</td> <td>    3.053</td> <td> 0.005</td> <td>  3.1e-06</td> <td> 1.57e-05</td>\n",
       "</tr>\n",
       "<tr>\n",
       "  <th>Buses:Automobiles</th>                       <td>-1.448e-06</td> <td> 4.11e-07</td> <td>   -3.519</td> <td> 0.001</td> <td>-2.29e-06</td> <td>-6.06e-07</td>\n",
       "</tr>\n",
       "<tr>\n",
       "  <th>num_hospitals_2019:stateGDP</th>             <td>   -0.0008</td> <td>    0.001</td> <td>   -0.909</td> <td> 0.371</td> <td>   -0.002</td> <td>    0.001</td>\n",
       "</tr>\n",
       "<tr>\n",
       "  <th>num_hospitals_2019:Automobiles</th>          <td>    0.0002</td> <td>    0.000</td> <td>    1.474</td> <td> 0.151</td> <td>-7.92e-05</td> <td>    0.000</td>\n",
       "</tr>\n",
       "<tr>\n",
       "  <th>num_hospitals_2019:Buses</th>                <td>    0.0251</td> <td>    0.009</td> <td>    2.838</td> <td> 0.008</td> <td>    0.007</td> <td>    0.043</td>\n",
       "</tr>\n",
       "<tr>\n",
       "  <th>num_active_doct_2019:stateGDP</th>           <td> 2.672e-06</td> <td> 2.03e-06</td> <td>    1.313</td> <td> 0.199</td> <td>-1.49e-06</td> <td> 6.83e-06</td>\n",
       "</tr>\n",
       "<tr>\n",
       "  <th>num_active_doct_2019:Automobiles</th>        <td>  1.95e-06</td> <td> 7.52e-07</td> <td>    2.591</td> <td> 0.015</td> <td> 4.11e-07</td> <td> 3.49e-06</td>\n",
       "</tr>\n",
       "<tr>\n",
       "  <th>num_active_doct_2019:Buses</th>              <td>-8.412e-05</td> <td> 3.23e-05</td> <td>   -2.603</td> <td> 0.014</td> <td>   -0.000</td> <td> -1.8e-05</td>\n",
       "</tr>\n",
       "<tr>\n",
       "  <th>num_active_doct_2019:num_hospitals_2019</th> <td>   -0.0389</td> <td>    0.022</td> <td>   -1.800</td> <td> 0.082</td> <td>   -0.083</td> <td>    0.005</td>\n",
       "</tr>\n",
       "</table>"
      ],
      "text/plain": [
       "<class 'statsmodels.iolib.table.SimpleTable'>"
      ]
     },
     "execution_count": 53,
     "metadata": {},
     "output_type": "execute_result"
    }
   ],
   "source": [
    "model2 = smf.ols(formula = 'positive_04102020 ~ Density + LandArea + stateGDP + Airports + Automobiles + Buses + num_hospitals_2019 + num_active_doct_2019 + avg_income_2019 + proportion_uninsured_2018 + Automobiles*stateGDP + Buses*stateGDP + Buses*Automobiles + num_hospitals_2019*stateGDP + num_hospitals_2019*Automobiles + num_hospitals_2019*Buses + num_active_doct_2019*stateGDP + num_active_doct_2019*Automobiles + num_active_doct_2019*Buses + num_active_doct_2019*num_hospitals_2019', data = covid_data).fit()\n",
    "summary2 = model2.summary()\n",
    "summary2.tables[1]\n",
    "\n",
    "#Statistically significant coefficients for these predictor variables:\n",
    "#stateGDP, Automobiles, num_active_doct_2019, proportion_uninsured_2018 (with no interaction terms)\n",
    "#num_active_doct_2019 (with interaction terms)\n",
    "\n",
    "#Statistically significant coefficients for these predictor variables (after checking linearity assumption):\n",
    "#Density and num_active_doct_2019 (in model with no interaction terms)"
   ]
  },
  {
   "cell_type": "markdown",
   "metadata": {},
   "source": [
    "In the multiple linear regression model with interaction terms (that showed collinearity with correlation > 0.80) for predicting number of COVID-19 cases, the variables with statistically significant coefficients are Density, Automobiles:stateGDP, Buses:stateGDP, Buses:Automobiles, num_hospitals_2019:Buses, num_active_doct_2019:Automobiles, num_active_doct_2019:Buses."
   ]
  },
  {
   "cell_type": "code",
   "execution_count": 55,
   "metadata": {},
   "outputs": [
    {
     "data": {
      "text/html": [
       "<table class=\"simpletable\">\n",
       "<tr>\n",
       "              <td></td>                 <th>coef</th>     <th>std err</th>      <th>t</th>      <th>P>|t|</th>  <th>[0.025</th>    <th>0.975]</th>  \n",
       "</tr>\n",
       "<tr>\n",
       "  <th>Intercept</th>                 <td>-6252.9609</td> <td> 1.02e+04</td> <td>   -0.611</td> <td> 0.544</td> <td>-2.69e+04</td> <td> 1.44e+04</td>\n",
       "</tr>\n",
       "<tr>\n",
       "  <th>Density</th>                   <td>   21.4757</td> <td>    4.792</td> <td>    4.482</td> <td> 0.000</td> <td>   11.812</td> <td>   31.140</td>\n",
       "</tr>\n",
       "<tr>\n",
       "  <th>LandArea</th>                  <td>   -0.0140</td> <td>    0.015</td> <td>   -0.949</td> <td> 0.348</td> <td>   -0.044</td> <td>    0.016</td>\n",
       "</tr>\n",
       "<tr>\n",
       "  <th>Airports</th>                  <td>   12.5072</td> <td>    3.843</td> <td>    3.255</td> <td> 0.002</td> <td>    4.758</td> <td>   20.257</td>\n",
       "</tr>\n",
       "<tr>\n",
       "  <th>avg_income_2019</th>           <td>    0.0480</td> <td>    0.104</td> <td>    0.464</td> <td> 0.645</td> <td>   -0.161</td> <td>    0.257</td>\n",
       "</tr>\n",
       "<tr>\n",
       "  <th>proportion_uninsured_2018</th> <td> 5341.6343</td> <td> 4.49e+04</td> <td>    0.119</td> <td> 0.906</td> <td>-8.53e+04</td> <td>  9.6e+04</td>\n",
       "</tr>\n",
       "</table>"
      ],
      "text/plain": [
       "<class 'statsmodels.iolib.table.SimpleTable'>"
      ]
     },
     "execution_count": 55,
     "metadata": {},
     "output_type": "execute_result"
    }
   ],
   "source": [
    "model = smf.ols(formula = 'positive_04102020 ~ Density + LandArea + Airports + avg_income_2019 + proportion_uninsured_2018', data = covid_data).fit()\n",
    "summary = model.summary()\n",
    "summary.tables[1]"
   ]
  },
  {
   "cell_type": "markdown",
   "metadata": {},
   "source": [
    "The multiple linear regression above is the previous regression with the variables with high collinearity removed (instead of keeping them in and adding interaction terms to account for the collinearity). \n",
    "-The variables with statistically significant coefficients in this model are Density and Airports."
   ]
  }
 ],
 "metadata": {
  "kernelspec": {
   "display_name": "Python 3",
   "language": "python",
   "name": "python3"
  },
  "language_info": {
   "codemirror_mode": {
    "name": "ipython",
    "version": 3
   },
   "file_extension": ".py",
   "mimetype": "text/x-python",
   "name": "python",
   "nbconvert_exporter": "python",
   "pygments_lexer": "ipython3",
   "version": "3.7.4"
  }
 },
 "nbformat": 4,
 "nbformat_minor": 2
}
